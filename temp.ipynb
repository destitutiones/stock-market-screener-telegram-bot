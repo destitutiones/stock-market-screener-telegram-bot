{
 "cells": [
  {
   "cell_type": "code",
   "execution_count": 232,
   "outputs": [],
   "source": [
    "import pandas as pd\n",
    "from sqlalchemy.ext.automap import automap_base\n",
    "from sqlalchemy.orm import Session\n",
    "from sqlalchemy import create_engine\n",
    "from sqlalchemy_utils import database_exists, create_database\n",
    "import yfinance as yf\n",
    "from time import sleep"
   ],
   "metadata": {
    "collapsed": false,
    "pycharm": {
     "name": "#%%\n"
    }
   }
  },
  {
   "cell_type": "code",
   "execution_count": 233,
   "outputs": [],
   "source": [
    "wiki = 'https://en.wikipedia.org/wiki/'"
   ],
   "metadata": {
    "collapsed": false,
    "pycharm": {
     "name": "#%%\n"
    }
   }
  },
  {
   "cell_type": "code",
   "execution_count": 234,
   "outputs": [],
   "source": [
    "cac40_tickers = pd.read_html(wiki + 'CAC_40', flavor='html5lib')[4]['Ticker'].to_list()"
   ],
   "metadata": {
    "collapsed": false,
    "pycharm": {
     "name": "#%%\n"
    }
   }
  },
  {
   "cell_type": "code",
   "execution_count": 235,
   "outputs": [],
   "source": [
    "def get_stock_price_history(tickers):\n",
    "    data = []\n",
    "    for ticker in tickers:\n",
    "        data.append(yf.download(tickers=ticker,\n",
    "                                period=\"5d\",\n",
    "                                interval=\"1m\").reset_index())\n",
    "    return data"
   ],
   "metadata": {
    "collapsed": false,
    "pycharm": {
     "name": "#%%\n"
    }
   }
  },
  {
   "cell_type": "code",
   "execution_count": 236,
   "outputs": [
    {
     "name": "stdout",
     "output_type": "stream",
     "text": [
      "[*********************100%***********************]  1 of 1 completed\n",
      "[*********************100%***********************]  1 of 1 completed\n",
      "[*********************100%***********************]  1 of 1 completed\n",
      "[*********************100%***********************]  1 of 1 completed\n",
      "[*********************100%***********************]  1 of 1 completed\n",
      "[*********************100%***********************]  1 of 1 completed\n",
      "[*********************100%***********************]  1 of 1 completed\n",
      "[*********************100%***********************]  1 of 1 completed\n",
      "[*********************100%***********************]  1 of 1 completed\n",
      "[*********************100%***********************]  1 of 1 completed\n",
      "[*********************100%***********************]  1 of 1 completed\n",
      "[*********************100%***********************]  1 of 1 completed\n",
      "[*********************100%***********************]  1 of 1 completed\n",
      "[*********************100%***********************]  1 of 1 completed\n",
      "[*********************100%***********************]  1 of 1 completed\n",
      "[*********************100%***********************]  1 of 1 completed\n",
      "[*********************100%***********************]  1 of 1 completed\n",
      "[*********************100%***********************]  1 of 1 completed\n",
      "[*********************100%***********************]  1 of 1 completed\n",
      "[*********************100%***********************]  1 of 1 completed\n",
      "[*********************100%***********************]  1 of 1 completed\n",
      "[*********************100%***********************]  1 of 1 completed\n",
      "[*********************100%***********************]  1 of 1 completed\n",
      "[*********************100%***********************]  1 of 1 completed\n",
      "[*********************100%***********************]  1 of 1 completed\n",
      "[*********************100%***********************]  1 of 1 completed\n",
      "[*********************100%***********************]  1 of 1 completed\n",
      "[*********************100%***********************]  1 of 1 completed\n",
      "[*********************100%***********************]  1 of 1 completed\n",
      "[*********************100%***********************]  1 of 1 completed\n",
      "[*********************100%***********************]  1 of 1 completed\n",
      "[*********************100%***********************]  1 of 1 completed\n",
      "[*********************100%***********************]  1 of 1 completed\n",
      "[*********************100%***********************]  1 of 1 completed\n",
      "[*********************100%***********************]  1 of 1 completed\n",
      "[*********************100%***********************]  1 of 1 completed\n",
      "[*********************100%***********************]  1 of 1 completed\n",
      "[*********************100%***********************]  1 of 1 completed\n",
      "[*********************100%***********************]  1 of 1 completed\n",
      "[*********************100%***********************]  1 of 1 completed\n"
     ]
    }
   ],
   "source": [
    "cac40 = get_stock_price_history(cac40_tickers)"
   ],
   "metadata": {
    "collapsed": false,
    "pycharm": {
     "name": "#%%\n"
    }
   }
  },
  {
   "cell_type": "code",
   "execution_count": 237,
   "outputs": [],
   "source": [
    "def new_engine(name):\n",
    "    engine = create_engine(f'postgresql://pavelkurach@localhost:5432/{name}')\n",
    "    if not database_exists(engine.url):\n",
    "        create_database(engine.url)\n",
    "    print(database_exists(engine.url))\n",
    "    return engine"
   ],
   "metadata": {
    "collapsed": false,
    "pycharm": {
     "name": "#%%\n"
    }
   }
  },
  {
   "cell_type": "code",
   "execution_count": 238,
   "outputs": [
    {
     "name": "stdout",
     "output_type": "stream",
     "text": [
      "True\n"
     ]
    }
   ],
   "source": [
    "cac40_engine = new_engine('CAC40')"
   ],
   "metadata": {
    "collapsed": false,
    "pycharm": {
     "name": "#%%\n"
    }
   }
  },
  {
   "cell_type": "code",
   "execution_count": 239,
   "outputs": [],
   "source": [
    "def to_sql(frames, tickers, engine):\n",
    "    for frame, ticker in zip(frames, tickers):\n",
    "        frame.to_sql(ticker, engine, if_exists='replace', index=False)\n",
    "        with cac40_engine.connect() as con:\n",
    "            con.execute(f'ALTER TABLE \"{ticker}\" ADD PRIMARY KEY (\"{frame.columns[0]}\");')\n",
    "\n",
    "    print(\"Successfully created a database\")"
   ],
   "metadata": {
    "collapsed": false,
    "pycharm": {
     "name": "#%%\n"
    }
   }
  },
  {
   "cell_type": "code",
   "execution_count": 240,
   "outputs": [
    {
     "name": "stdout",
     "output_type": "stream",
     "text": [
      "Successfully created a database\n"
     ]
    }
   ],
   "source": [
    "to_sql(cac40, cac40_tickers, cac40_engine)"
   ],
   "metadata": {
    "collapsed": false,
    "pycharm": {
     "name": "#%%\n"
    }
   }
  },
  {
   "cell_type": "code",
   "execution_count": 241,
   "outputs": [],
   "source": [
    "Base = automap_base()\n",
    "\n",
    "Base.prepare(autoload_with=cac40_engine)"
   ],
   "metadata": {
    "collapsed": false,
    "pycharm": {
     "name": "#%%\n"
    }
   }
  },
  {
   "cell_type": "code",
   "execution_count": 242,
   "outputs": [],
   "source": [
    "cac40_classes = {ticker: cls for ticker, cls in zip(cac40_tickers, Base.classes)}"
   ],
   "metadata": {
    "collapsed": false,
    "pycharm": {
     "name": "#%%\n"
    }
   }
  },
  {
   "cell_type": "code",
   "execution_count": 243,
   "outputs": [],
   "source": [
    "session = Session(cac40_engine)"
   ],
   "metadata": {
    "collapsed": false,
    "pycharm": {
     "name": "#%%\n"
    }
   }
  },
  {
   "cell_type": "code",
   "execution_count": 244,
   "outputs": [],
   "source": [
    "query = session.query(cac40_classes['AI.PA'])"
   ],
   "metadata": {
    "collapsed": false,
    "pycharm": {
     "name": "#%%\n"
    }
   }
  },
  {
   "cell_type": "code",
   "execution_count": 245,
   "outputs": [
    {
     "data": {
      "text/plain": "                           Open        High         Low       Close  \\\nDatetime                                                              \n2022-12-16 09:00:00  134.000000  134.080002  133.899994  134.039993   \n2022-12-16 09:01:00  134.020004  134.199997  134.020004  134.100006   \n2022-12-16 09:02:00  134.059998  134.179993  134.059998  134.179993   \n2022-12-16 09:03:00  134.300003  134.460007  134.300003  134.339996   \n2022-12-16 09:04:00  134.259995  134.259995  134.059998  134.179993   \n...                         ...         ...         ...         ...   \n2022-12-22 16:51:00  133.500000  133.500000  133.479996  133.479996   \n2022-12-22 16:52:00  133.479996  133.479996  133.460007  133.460007   \n2022-12-22 16:53:00  133.479996  133.479996  133.460007  133.460007   \n2022-12-22 16:54:00  133.460007  133.460007  133.419998  133.440002   \n2022-12-22 16:55:00  133.419998  133.419998  133.380005  133.380005   \n\n                      Adj Close  Volume  \nDatetime                                 \n2022-12-16 09:00:00  134.039993       0  \n2022-12-16 09:01:00  134.100006    1656  \n2022-12-16 09:02:00  134.179993     406  \n2022-12-16 09:03:00  134.339996     443  \n2022-12-16 09:04:00  134.179993     633  \n...                         ...     ...  \n2022-12-22 16:51:00  133.479996     321  \n2022-12-22 16:52:00  133.460007     383  \n2022-12-22 16:53:00  133.460007     193  \n2022-12-22 16:54:00  133.440002     143  \n2022-12-22 16:55:00  133.380005     579  \n\n[2475 rows x 6 columns]",
      "text/html": "<div>\n<style scoped>\n    .dataframe tbody tr th:only-of-type {\n        vertical-align: middle;\n    }\n\n    .dataframe tbody tr th {\n        vertical-align: top;\n    }\n\n    .dataframe thead th {\n        text-align: right;\n    }\n</style>\n<table border=\"1\" class=\"dataframe\">\n  <thead>\n    <tr style=\"text-align: right;\">\n      <th></th>\n      <th>Open</th>\n      <th>High</th>\n      <th>Low</th>\n      <th>Close</th>\n      <th>Adj Close</th>\n      <th>Volume</th>\n    </tr>\n    <tr>\n      <th>Datetime</th>\n      <th></th>\n      <th></th>\n      <th></th>\n      <th></th>\n      <th></th>\n      <th></th>\n    </tr>\n  </thead>\n  <tbody>\n    <tr>\n      <th>2022-12-16 09:00:00</th>\n      <td>134.000000</td>\n      <td>134.080002</td>\n      <td>133.899994</td>\n      <td>134.039993</td>\n      <td>134.039993</td>\n      <td>0</td>\n    </tr>\n    <tr>\n      <th>2022-12-16 09:01:00</th>\n      <td>134.020004</td>\n      <td>134.199997</td>\n      <td>134.020004</td>\n      <td>134.100006</td>\n      <td>134.100006</td>\n      <td>1656</td>\n    </tr>\n    <tr>\n      <th>2022-12-16 09:02:00</th>\n      <td>134.059998</td>\n      <td>134.179993</td>\n      <td>134.059998</td>\n      <td>134.179993</td>\n      <td>134.179993</td>\n      <td>406</td>\n    </tr>\n    <tr>\n      <th>2022-12-16 09:03:00</th>\n      <td>134.300003</td>\n      <td>134.460007</td>\n      <td>134.300003</td>\n      <td>134.339996</td>\n      <td>134.339996</td>\n      <td>443</td>\n    </tr>\n    <tr>\n      <th>2022-12-16 09:04:00</th>\n      <td>134.259995</td>\n      <td>134.259995</td>\n      <td>134.059998</td>\n      <td>134.179993</td>\n      <td>134.179993</td>\n      <td>633</td>\n    </tr>\n    <tr>\n      <th>...</th>\n      <td>...</td>\n      <td>...</td>\n      <td>...</td>\n      <td>...</td>\n      <td>...</td>\n      <td>...</td>\n    </tr>\n    <tr>\n      <th>2022-12-22 16:51:00</th>\n      <td>133.500000</td>\n      <td>133.500000</td>\n      <td>133.479996</td>\n      <td>133.479996</td>\n      <td>133.479996</td>\n      <td>321</td>\n    </tr>\n    <tr>\n      <th>2022-12-22 16:52:00</th>\n      <td>133.479996</td>\n      <td>133.479996</td>\n      <td>133.460007</td>\n      <td>133.460007</td>\n      <td>133.460007</td>\n      <td>383</td>\n    </tr>\n    <tr>\n      <th>2022-12-22 16:53:00</th>\n      <td>133.479996</td>\n      <td>133.479996</td>\n      <td>133.460007</td>\n      <td>133.460007</td>\n      <td>133.460007</td>\n      <td>193</td>\n    </tr>\n    <tr>\n      <th>2022-12-22 16:54:00</th>\n      <td>133.460007</td>\n      <td>133.460007</td>\n      <td>133.419998</td>\n      <td>133.440002</td>\n      <td>133.440002</td>\n      <td>143</td>\n    </tr>\n    <tr>\n      <th>2022-12-22 16:55:00</th>\n      <td>133.419998</td>\n      <td>133.419998</td>\n      <td>133.380005</td>\n      <td>133.380005</td>\n      <td>133.380005</td>\n      <td>579</td>\n    </tr>\n  </tbody>\n</table>\n<p>2475 rows × 6 columns</p>\n</div>"
     },
     "execution_count": 245,
     "metadata": {},
     "output_type": "execute_result"
    }
   ],
   "source": [
    "df = pd.read_sql(query.statement, query.session.bind, index_col='Datetime')\n",
    "df"
   ],
   "metadata": {
    "collapsed": false,
    "pycharm": {
     "name": "#%%\n"
    }
   }
  },
  {
   "cell_type": "code",
   "execution_count": 246,
   "outputs": [
    {
     "data": {
      "text/plain": "Datetime\n2022-12-16 09:00:00         NaN\n2022-12-16 09:01:00    0.000448\n2022-12-16 09:02:00    0.000596\n2022-12-16 09:03:00    0.001192\n2022-12-16 09:04:00   -0.001191\n                         ...   \n2022-12-22 16:51:00   -0.000300\n2022-12-22 16:52:00   -0.000150\n2022-12-22 16:53:00    0.000000\n2022-12-22 16:54:00   -0.000150\n2022-12-22 16:55:00   -0.000450\nName: Close, Length: 2475, dtype: float64"
     },
     "execution_count": 246,
     "metadata": {},
     "output_type": "execute_result"
    }
   ],
   "source": [
    "import matplotlib\n",
    "\n",
    "df.Close.pct_change()"
   ],
   "metadata": {
    "collapsed": false,
    "pycharm": {
     "name": "#%%\n"
    }
   }
  },
  {
   "cell_type": "code",
   "execution_count": 247,
   "outputs": [
    {
     "name": "stdout",
     "output_type": "stream",
     "text": [
      "Datetime\n",
      "2022-12-16 09:00:00         NaN\n",
      "2022-12-16 09:01:00    0.001194\n",
      "2022-12-16 09:02:00    0.000596\n",
      "2022-12-16 09:03:00    0.002087\n",
      "2022-12-16 09:04:00   -0.000596\n",
      "                         ...   \n",
      "2022-12-22 16:51:00   -0.000150\n",
      "2022-12-22 16:52:00    0.000000\n",
      "2022-12-22 16:53:00    0.000150\n",
      "2022-12-22 16:54:00    0.000000\n",
      "2022-12-22 16:55:00   -0.000150\n",
      "Length: 2475, dtype: float64\n"
     ]
    }
   ],
   "source": [
    "import numpy as np\n",
    "\n",
    "highs = df['High'] / df['Close'].shift() - 1\n",
    "print(highs)"
   ],
   "metadata": {
    "collapsed": false,
    "pycharm": {
     "name": "#%%\n"
    }
   }
  },
  {
   "cell_type": "code",
   "execution_count": 248,
   "outputs": [
    {
     "data": {
      "text/plain": "43"
     },
     "execution_count": 248,
     "metadata": {},
     "output_type": "execute_result"
    }
   ],
   "source": [
    "lows = df['Low'] / df['Close'].shift() - 1\n",
    "np.sum(lows < -3 * lows.std())"
   ],
   "metadata": {
    "collapsed": false,
    "pycharm": {
     "name": "#%%\n"
    }
   }
  },
  {
   "cell_type": "code",
   "execution_count": 249,
   "outputs": [
    {
     "name": "stdout",
     "output_type": "stream",
     "text": [
      "2022-12-22 17:11:16.627797\n",
      "True\n"
     ]
    },
    {
     "data": {
      "text/plain": "Timestamp('2022-12-22 16:55:00')"
     },
     "execution_count": 249,
     "metadata": {},
     "output_type": "execute_result"
    }
   ],
   "source": [
    "import datetime as dt\n",
    "\n",
    "print(dt.datetime.now())\n",
    "print(df.index[0] < dt.datetime.now())\n",
    "start = df.index[-1]\n",
    "start"
   ],
   "metadata": {
    "collapsed": false,
    "pycharm": {
     "name": "#%%\n"
    }
   }
  },
  {
   "cell_type": "code",
   "execution_count": 250,
   "outputs": [
    {
     "name": "stdout",
     "output_type": "stream",
     "text": [
      "[*********************100%***********************]  1 of 1 completed\n"
     ]
    },
    {
     "data": {
      "text/plain": "               Datetime        Open        High         Low       Close  \\\n0   2022-12-22 09:00:00  135.339996  135.559998  135.300003  135.440002   \n1   2022-12-22 09:01:00  135.539993  135.559998  135.539993  135.559998   \n2   2022-12-22 09:02:00  135.479996  135.660004  135.479996  135.660004   \n3   2022-12-22 09:03:00  135.580002  135.639999  135.559998  135.639999   \n4   2022-12-22 09:04:00  135.619995  135.619995  135.619995  135.619995   \n..                  ...         ...         ...         ...         ...   \n460 2022-12-22 16:52:00  133.479996  133.479996  133.460007  133.460007   \n461 2022-12-22 16:53:00  133.479996  133.479996  133.460007  133.460007   \n462 2022-12-22 16:54:00  133.460007  133.460007  133.419998  133.440002   \n463 2022-12-22 16:55:00  133.419998  133.419998  133.380005  133.380005   \n464 2022-12-22 16:56:00  133.380005  133.380005  133.380005  133.380005   \n\n      Adj Close  Volume  \n0    135.440002       0  \n1    135.559998      50  \n2    135.660004     329  \n3    135.639999     329  \n4    135.619995      21  \n..          ...     ...  \n460  133.460007     383  \n461  133.460007     193  \n462  133.440002     143  \n463  133.380005     579  \n464  133.380005       0  \n\n[465 rows x 7 columns]",
      "text/html": "<div>\n<style scoped>\n    .dataframe tbody tr th:only-of-type {\n        vertical-align: middle;\n    }\n\n    .dataframe tbody tr th {\n        vertical-align: top;\n    }\n\n    .dataframe thead th {\n        text-align: right;\n    }\n</style>\n<table border=\"1\" class=\"dataframe\">\n  <thead>\n    <tr style=\"text-align: right;\">\n      <th></th>\n      <th>Datetime</th>\n      <th>Open</th>\n      <th>High</th>\n      <th>Low</th>\n      <th>Close</th>\n      <th>Adj Close</th>\n      <th>Volume</th>\n    </tr>\n  </thead>\n  <tbody>\n    <tr>\n      <th>0</th>\n      <td>2022-12-22 09:00:00</td>\n      <td>135.339996</td>\n      <td>135.559998</td>\n      <td>135.300003</td>\n      <td>135.440002</td>\n      <td>135.440002</td>\n      <td>0</td>\n    </tr>\n    <tr>\n      <th>1</th>\n      <td>2022-12-22 09:01:00</td>\n      <td>135.539993</td>\n      <td>135.559998</td>\n      <td>135.539993</td>\n      <td>135.559998</td>\n      <td>135.559998</td>\n      <td>50</td>\n    </tr>\n    <tr>\n      <th>2</th>\n      <td>2022-12-22 09:02:00</td>\n      <td>135.479996</td>\n      <td>135.660004</td>\n      <td>135.479996</td>\n      <td>135.660004</td>\n      <td>135.660004</td>\n      <td>329</td>\n    </tr>\n    <tr>\n      <th>3</th>\n      <td>2022-12-22 09:03:00</td>\n      <td>135.580002</td>\n      <td>135.639999</td>\n      <td>135.559998</td>\n      <td>135.639999</td>\n      <td>135.639999</td>\n      <td>329</td>\n    </tr>\n    <tr>\n      <th>4</th>\n      <td>2022-12-22 09:04:00</td>\n      <td>135.619995</td>\n      <td>135.619995</td>\n      <td>135.619995</td>\n      <td>135.619995</td>\n      <td>135.619995</td>\n      <td>21</td>\n    </tr>\n    <tr>\n      <th>...</th>\n      <td>...</td>\n      <td>...</td>\n      <td>...</td>\n      <td>...</td>\n      <td>...</td>\n      <td>...</td>\n      <td>...</td>\n    </tr>\n    <tr>\n      <th>460</th>\n      <td>2022-12-22 16:52:00</td>\n      <td>133.479996</td>\n      <td>133.479996</td>\n      <td>133.460007</td>\n      <td>133.460007</td>\n      <td>133.460007</td>\n      <td>383</td>\n    </tr>\n    <tr>\n      <th>461</th>\n      <td>2022-12-22 16:53:00</td>\n      <td>133.479996</td>\n      <td>133.479996</td>\n      <td>133.460007</td>\n      <td>133.460007</td>\n      <td>133.460007</td>\n      <td>193</td>\n    </tr>\n    <tr>\n      <th>462</th>\n      <td>2022-12-22 16:54:00</td>\n      <td>133.460007</td>\n      <td>133.460007</td>\n      <td>133.419998</td>\n      <td>133.440002</td>\n      <td>133.440002</td>\n      <td>143</td>\n    </tr>\n    <tr>\n      <th>463</th>\n      <td>2022-12-22 16:55:00</td>\n      <td>133.419998</td>\n      <td>133.419998</td>\n      <td>133.380005</td>\n      <td>133.380005</td>\n      <td>133.380005</td>\n      <td>579</td>\n    </tr>\n    <tr>\n      <th>464</th>\n      <td>2022-12-22 16:56:00</td>\n      <td>133.380005</td>\n      <td>133.380005</td>\n      <td>133.380005</td>\n      <td>133.380005</td>\n      <td>133.380005</td>\n      <td>0</td>\n    </tr>\n  </tbody>\n</table>\n<p>465 rows × 7 columns</p>\n</div>"
     },
     "execution_count": 250,
     "metadata": {},
     "output_type": "execute_result"
    }
   ],
   "source": [
    "yf.download(tickers='AI.PA',\n",
    "            period=\"1d\",\n",
    "            interval=\"1m\").reset_index()"
   ],
   "metadata": {
    "collapsed": false,
    "pycharm": {
     "name": "#%%\n"
    }
   }
  },
  {
   "cell_type": "code",
   "execution_count": 251,
   "outputs": [
    {
     "name": "stdout",
     "output_type": "stream",
     "text": [
      "{'AI.PA': 0.0004494217199336799, 'AIR.PA': 0.0004494217199336799, 'ALO.PA': 0.0004494217199336799, 'MT.AS': 0.0004494217199336799, 'CS.PA': 0.0004494217199336799, 'BNP.PA': 0.0004494217199336799, 'EN.PA': 0.0004494217199336799, 'CAP.PA': 0.0004494217199336799, 'CA.PA': 0.0004494217199336799, 'ACA.PA': 0.0004494217199336799, 'BN.PA': 0.0004494217199336799, 'DSY.PA': 0.0004494217199336799, 'ENGI.PA': 0.0004494217199336799, 'EL.PA': 0.0004494217199336799, 'ERF.PA': 0.0004494217199336799, 'RMS.PA': 0.0004494217199336799, 'KER.PA': 0.0004494217199336799, 'OR.PA': 0.0004494217199336799, 'LR.PA': 0.0004494217199336799, 'MC.PA': 0.0004494217199336799, 'ML.PA': 0.0004494217199336799, 'ORA.PA': 0.0004494217199336799, 'RI.PA': 0.0004494217199336799, 'PUB.PA': 0.0004494217199336799, 'RNO.PA': 0.0004494217199336799, 'SAF.PA': 0.0004494217199336799, 'SGO.PA': 0.0004494217199336799, 'SAN.PA': 0.0004494217199336799, 'SU.PA': 0.0004494217199336799, 'GLE.PA': 0.0004494217199336799, 'STLA.PA': 0.0004494217199336799, 'STM.PA': 0.0004494217199336799, 'TEP.PA': 0.0004494217199336799, 'HO.PA': 0.0004494217199336799, 'TTE.PA': 0.0004494217199336799, 'URW.AS': 0.0004494217199336799, 'VIE.PA': 0.0004494217199336799, 'DG.PA': 0.0004494217199336799, 'VIV.PA': 0.0004494217199336799, 'WLN.PA': 0.0004494217199336799}\n"
     ]
    }
   ],
   "source": [
    "sigma = {}\n",
    "for ticker in cac40_tickers:\n",
    "    query = session.query(cac40_classes[ticker])\n",
    "    temp_df = pd.read_sql(query.statement, query.session.bind, index_col='Datetime')\n",
    "    sigma[ticker] = df.Close.pct_change().std()\n",
    "\n",
    "print(sigma)"
   ],
   "metadata": {
    "collapsed": false,
    "pycharm": {
     "name": "#%%\n"
    }
   }
  },
  {
   "cell_type": "code",
   "execution_count": 253,
   "outputs": [
    {
     "name": "stdout",
     "output_type": "stream",
     "text": [
      "DSY.PA stock price moved by 0.13% from 16:55 to 16:56.\n",
      "TTE.PA stock price moved by 0.15% from 16:55 to 16:56.\n"
     ]
    },
    {
     "ename": "KeyboardInterrupt",
     "evalue": "",
     "output_type": "error",
     "traceback": [
      "\u001B[0;31m---------------------------------------------------------------------------\u001B[0m",
      "\u001B[0;31mKeyboardInterrupt\u001B[0m                         Traceback (most recent call last)",
      "Cell \u001B[0;32mIn[253], line 23\u001B[0m\n\u001B[1;32m     21\u001B[0m         session\u001B[38;5;241m.\u001B[39mcommit()\n\u001B[1;32m     22\u001B[0m         update[ticker] \u001B[38;5;241m=\u001B[39m tick[\u001B[38;5;124m'\u001B[39m\u001B[38;5;124mDatetime\u001B[39m\u001B[38;5;124m'\u001B[39m]\n\u001B[0;32m---> 23\u001B[0m \u001B[43msleep\u001B[49m\u001B[43m(\u001B[49m\u001B[38;5;241;43m30\u001B[39;49m\u001B[43m)\u001B[49m\n",
      "\u001B[0;31mKeyboardInterrupt\u001B[0m: "
     ]
    }
   ],
   "source": [
    "update = {ticker: session.query(cac40_classes[ticker]).order_by(\n",
    "    cac40_classes[ticker].Datetime.desc()).first().Datetime for ticker in cac40_tickers}\n",
    "\n",
    "while True:\n",
    "    for ticker in cac40_tickers:\n",
    "        new_data = yf.download(tickers=ticker,\n",
    "                               period=\"1d\",\n",
    "                               interval=\"1m\", progress=False).reset_index()\n",
    "        new_data = new_data[new_data['Datetime'] > update[ticker]]\n",
    "        for _, tick in new_data.iterrows():\n",
    "            last_close = session.query(cac40_classes[ticker]).order_by(\n",
    "                cac40_classes[ticker].Datetime.desc()).first().Close\n",
    "            change = tick[\"Close\"] / last_close - 1\n",
    "            if change > 2*sigma[ticker]:\n",
    "                print(f'{ticker} stock price moved by {change * 100:.2f}% '\n",
    "                      f'from {update[ticker].hour}:{update[ticker].minute} '\n",
    "                      f'to {tick[\"Datetime\"].hour}:{tick[\"Datetime\"].minute}.')\n",
    "                sleep(5)\n",
    "            t = cac40_classes[ticker](**tick.to_dict())\n",
    "            session.add(t)\n",
    "            session.commit()\n",
    "            update[ticker] = tick['Datetime']\n",
    "    sleep(30)"
   ],
   "metadata": {
    "collapsed": false,
    "pycharm": {
     "name": "#%%\n"
    }
   }
  },
  {
   "cell_type": "code",
   "execution_count": 197,
   "outputs": [
    {
     "name": "stdout",
     "output_type": "stream",
     "text": [
      "16\n"
     ]
    }
   ],
   "source": [
    "print(update.hour)"
   ],
   "metadata": {
    "collapsed": false,
    "pycharm": {
     "name": "#%%\n"
    }
   }
  },
  {
   "cell_type": "code",
   "execution_count": 226,
   "outputs": [
    {
     "data": {
      "text/plain": "                           Open        High         Low       Close  \\\nDatetime                                                              \n2022-12-22 16:35:00  111.760002  111.820000  111.660004  111.760002   \n2022-12-22 16:30:00  111.820000  111.839996  111.699997  111.739998   \n2022-12-22 16:25:00  111.760002  111.879997  111.760002  111.820000   \n2022-12-22 16:20:00  112.080002  112.080002  111.760002  111.760002   \n2022-12-22 16:15:00   22.700001   22.730000   22.690001   22.730000   \n2022-12-22 16:10:00   22.719999   22.719999   22.690001   22.709999   \n2022-12-22 16:05:00   22.740000   22.750000   22.700001   22.719999   \n2022-12-22 16:00:00   22.850000   22.850000   22.750000   22.750000   \n2022-12-22 15:55:00   22.830000   22.860001   22.830000   22.860001   \n2022-12-22 15:50:00   22.830000   22.870001   22.820000   22.850000   \n\n                      Adj Close  Volume  \nDatetime                                 \n2022-12-22 16:35:00  111.760002    2865  \n2022-12-22 16:30:00  111.739998    5507  \n2022-12-22 16:25:00  111.820000    3450  \n2022-12-22 16:20:00  111.760002    5950  \n2022-12-22 16:15:00   22.730000    2070  \n2022-12-22 16:10:00   22.709999   11750  \n2022-12-22 16:05:00   22.719999    9577  \n2022-12-22 16:00:00   22.750000   45947  \n2022-12-22 15:55:00   22.860001   13865  \n2022-12-22 15:50:00   22.850000   15468  ",
      "text/html": "<div>\n<style scoped>\n    .dataframe tbody tr th:only-of-type {\n        vertical-align: middle;\n    }\n\n    .dataframe tbody tr th {\n        vertical-align: top;\n    }\n\n    .dataframe thead th {\n        text-align: right;\n    }\n</style>\n<table border=\"1\" class=\"dataframe\">\n  <thead>\n    <tr style=\"text-align: right;\">\n      <th></th>\n      <th>Open</th>\n      <th>High</th>\n      <th>Low</th>\n      <th>Close</th>\n      <th>Adj Close</th>\n      <th>Volume</th>\n    </tr>\n    <tr>\n      <th>Datetime</th>\n      <th></th>\n      <th></th>\n      <th></th>\n      <th></th>\n      <th></th>\n      <th></th>\n    </tr>\n  </thead>\n  <tbody>\n    <tr>\n      <th>2022-12-22 16:35:00</th>\n      <td>111.760002</td>\n      <td>111.820000</td>\n      <td>111.660004</td>\n      <td>111.760002</td>\n      <td>111.760002</td>\n      <td>2865</td>\n    </tr>\n    <tr>\n      <th>2022-12-22 16:30:00</th>\n      <td>111.820000</td>\n      <td>111.839996</td>\n      <td>111.699997</td>\n      <td>111.739998</td>\n      <td>111.739998</td>\n      <td>5507</td>\n    </tr>\n    <tr>\n      <th>2022-12-22 16:25:00</th>\n      <td>111.760002</td>\n      <td>111.879997</td>\n      <td>111.760002</td>\n      <td>111.820000</td>\n      <td>111.820000</td>\n      <td>3450</td>\n    </tr>\n    <tr>\n      <th>2022-12-22 16:20:00</th>\n      <td>112.080002</td>\n      <td>112.080002</td>\n      <td>111.760002</td>\n      <td>111.760002</td>\n      <td>111.760002</td>\n      <td>5950</td>\n    </tr>\n    <tr>\n      <th>2022-12-22 16:15:00</th>\n      <td>22.700001</td>\n      <td>22.730000</td>\n      <td>22.690001</td>\n      <td>22.730000</td>\n      <td>22.730000</td>\n      <td>2070</td>\n    </tr>\n    <tr>\n      <th>2022-12-22 16:10:00</th>\n      <td>22.719999</td>\n      <td>22.719999</td>\n      <td>22.690001</td>\n      <td>22.709999</td>\n      <td>22.709999</td>\n      <td>11750</td>\n    </tr>\n    <tr>\n      <th>2022-12-22 16:05:00</th>\n      <td>22.740000</td>\n      <td>22.750000</td>\n      <td>22.700001</td>\n      <td>22.719999</td>\n      <td>22.719999</td>\n      <td>9577</td>\n    </tr>\n    <tr>\n      <th>2022-12-22 16:00:00</th>\n      <td>22.850000</td>\n      <td>22.850000</td>\n      <td>22.750000</td>\n      <td>22.750000</td>\n      <td>22.750000</td>\n      <td>45947</td>\n    </tr>\n    <tr>\n      <th>2022-12-22 15:55:00</th>\n      <td>22.830000</td>\n      <td>22.860001</td>\n      <td>22.830000</td>\n      <td>22.860001</td>\n      <td>22.860001</td>\n      <td>13865</td>\n    </tr>\n    <tr>\n      <th>2022-12-22 15:50:00</th>\n      <td>22.830000</td>\n      <td>22.870001</td>\n      <td>22.820000</td>\n      <td>22.850000</td>\n      <td>22.850000</td>\n      <td>15468</td>\n    </tr>\n  </tbody>\n</table>\n</div>"
     },
     "execution_count": 226,
     "metadata": {},
     "output_type": "execute_result"
    }
   ],
   "source": [
    "query = session.query(cac40_classes['AIR.PA']).order_by(\n",
    "    cac40_classes['AIR.PA'].Datetime.desc()).limit(10)\n",
    "pd.read_sql(query.statement, query.session.bind, index_col='Datetime')"
   ],
   "metadata": {
    "collapsed": false,
    "pycharm": {
     "name": "#%%\n"
    }
   }
  },
  {
   "cell_type": "code",
   "execution_count": null,
   "outputs": [],
   "source": [
    "dt = session.query(cac40_classes['AI.PA']).order_by(cac40_classes['AI.PA'].Datetime.desc()).first().Datetime\n",
    "dt"
   ],
   "metadata": {
    "collapsed": false,
    "pycharm": {
     "name": "#%%\n"
    }
   }
  },
  {
   "cell_type": "code",
   "execution_count": 51,
   "outputs": [
    {
     "data": {
      "text/plain": "133.82000732421875"
     },
     "execution_count": 51,
     "metadata": {},
     "output_type": "execute_result"
    }
   ],
   "source": [
    "session.query(cac40_classes['AI.PA']).order_by(cac40_classes['AI.PA'].Datetime.desc()).first().Close"
   ],
   "metadata": {
    "collapsed": false,
    "pycharm": {
     "name": "#%%\n"
    }
   }
  },
  {
   "cell_type": "code",
   "execution_count": null,
   "outputs": [],
   "source": [],
   "metadata": {
    "collapsed": false,
    "pycharm": {
     "name": "#%%\n"
    }
   }
  }
 ],
 "metadata": {
  "kernelspec": {
   "display_name": "Python 3",
   "language": "python",
   "name": "python3"
  },
  "language_info": {
   "codemirror_mode": {
    "name": "ipython",
    "version": 2
   },
   "file_extension": ".py",
   "mimetype": "text/x-python",
   "name": "python",
   "nbconvert_exporter": "python",
   "pygments_lexer": "ipython2",
   "version": "2.7.6"
  }
 },
 "nbformat": 4,
 "nbformat_minor": 0
}