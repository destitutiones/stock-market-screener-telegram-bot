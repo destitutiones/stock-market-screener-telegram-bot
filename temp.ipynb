{
 "cells": [
  {
   "cell_type": "code",
   "execution_count": 1,
   "outputs": [],
   "source": [
    "import pandas as pd\n",
    "from sqlalchemy.ext.automap import automap_base\n",
    "from sqlalchemy.orm import Session\n",
    "from sqlalchemy import create_engine\n",
    "from sqlalchemy_utils import database_exists, create_database\n",
    "import yfinance as yf"
   ],
   "metadata": {
    "collapsed": false,
    "pycharm": {
     "name": "#%%\n"
    }
   }
  },
  {
   "cell_type": "code",
   "execution_count": 2,
   "outputs": [],
   "source": [
    "wiki = 'https://en.wikipedia.org/wiki/'"
   ],
   "metadata": {
    "collapsed": false,
    "pycharm": {
     "name": "#%%\n"
    }
   }
  },
  {
   "cell_type": "code",
   "execution_count": 3,
   "outputs": [],
   "source": [
    "cac40_tickers = pd.read_html(wiki + 'CAC_40', flavor='html5lib')[4]['Ticker'].to_list()"
   ],
   "metadata": {
    "collapsed": false,
    "pycharm": {
     "name": "#%%\n"
    }
   }
  },
  {
   "cell_type": "code",
   "execution_count": 4,
   "outputs": [],
   "source": [
    "def get_stock_price_history(tickers):\n",
    "    data = []\n",
    "    for ticker in tickers:\n",
    "        data.append(yf.download(tickers=ticker,\n",
    "                                period=\"1mo\",\n",
    "                                interval=\"5m\").reset_index())\n",
    "    return data"
   ],
   "metadata": {
    "collapsed": false,
    "pycharm": {
     "name": "#%%\n"
    }
   }
  },
  {
   "cell_type": "code",
   "execution_count": 5,
   "outputs": [
    {
     "name": "stdout",
     "output_type": "stream",
     "text": [
      "[*********************100%***********************]  1 of 1 completed\n",
      "[*********************100%***********************]  1 of 1 completed\n",
      "[*********************100%***********************]  1 of 1 completed\n",
      "[*********************100%***********************]  1 of 1 completed\n",
      "[*********************100%***********************]  1 of 1 completed\n",
      "[*********************100%***********************]  1 of 1 completed\n",
      "[*********************100%***********************]  1 of 1 completed\n",
      "[*********************100%***********************]  1 of 1 completed\n",
      "[*********************100%***********************]  1 of 1 completed\n",
      "[*********************100%***********************]  1 of 1 completed\n",
      "[*********************100%***********************]  1 of 1 completed\n",
      "[*********************100%***********************]  1 of 1 completed\n",
      "[*********************100%***********************]  1 of 1 completed\n",
      "[*********************100%***********************]  1 of 1 completed\n",
      "[*********************100%***********************]  1 of 1 completed\n",
      "[*********************100%***********************]  1 of 1 completed\n",
      "[*********************100%***********************]  1 of 1 completed\n",
      "[*********************100%***********************]  1 of 1 completed\n",
      "[*********************100%***********************]  1 of 1 completed\n",
      "[*********************100%***********************]  1 of 1 completed\n",
      "[*********************100%***********************]  1 of 1 completed\n",
      "[*********************100%***********************]  1 of 1 completed\n",
      "[*********************100%***********************]  1 of 1 completed\n",
      "[*********************100%***********************]  1 of 1 completed\n",
      "[*********************100%***********************]  1 of 1 completed\n",
      "[*********************100%***********************]  1 of 1 completed\n",
      "[*********************100%***********************]  1 of 1 completed\n",
      "[*********************100%***********************]  1 of 1 completed\n",
      "[*********************100%***********************]  1 of 1 completed\n",
      "[*********************100%***********************]  1 of 1 completed\n",
      "[*********************100%***********************]  1 of 1 completed\n",
      "[*********************100%***********************]  1 of 1 completed\n",
      "[*********************100%***********************]  1 of 1 completed\n",
      "[*********************100%***********************]  1 of 1 completed\n",
      "[*********************100%***********************]  1 of 1 completed\n",
      "[*********************100%***********************]  1 of 1 completed\n",
      "[*********************100%***********************]  1 of 1 completed\n",
      "[*********************100%***********************]  1 of 1 completed\n",
      "[*********************100%***********************]  1 of 1 completed\n",
      "[*********************100%***********************]  1 of 1 completed\n"
     ]
    }
   ],
   "source": [
    "cac40 = get_stock_price_history(cac40_tickers)"
   ],
   "metadata": {
    "collapsed": false,
    "pycharm": {
     "name": "#%%\n"
    }
   }
  },
  {
   "cell_type": "code",
   "execution_count": 6,
   "outputs": [],
   "source": [
    "def new_engine(name):\n",
    "    engine = create_engine(f'postgresql://pavelkurach@localhost:5432/{name}')\n",
    "    if not database_exists(engine.url):\n",
    "        create_database(engine.url)\n",
    "    print(database_exists(engine.url))\n",
    "    return engine"
   ],
   "metadata": {
    "collapsed": false,
    "pycharm": {
     "name": "#%%\n"
    }
   }
  },
  {
   "cell_type": "code",
   "execution_count": 7,
   "outputs": [
    {
     "name": "stdout",
     "output_type": "stream",
     "text": [
      "True\n"
     ]
    }
   ],
   "source": [
    "cac40_engine = new_engine('CAC40')"
   ],
   "metadata": {
    "collapsed": false,
    "pycharm": {
     "name": "#%%\n"
    }
   }
  },
  {
   "cell_type": "code",
   "execution_count": 8,
   "outputs": [],
   "source": [
    "def to_sql(frames, tickers, engine):\n",
    "    for frame, ticker in zip(frames, tickers):\n",
    "        frame.to_sql(ticker, engine, if_exists='replace', index=False)\n",
    "        with cac40_engine.connect() as con:\n",
    "            con.execute(f'ALTER TABLE \"{ticker}\" ADD PRIMARY KEY (\"{frame.columns[0]}\");')\n",
    "\n",
    "    print(\"Successfully created a database\")"
   ],
   "metadata": {
    "collapsed": false,
    "pycharm": {
     "name": "#%%\n"
    }
   }
  },
  {
   "cell_type": "code",
   "execution_count": 9,
   "outputs": [
    {
     "name": "stdout",
     "output_type": "stream",
     "text": [
      "Successfully created a database\n"
     ]
    }
   ],
   "source": [
    "to_sql(cac40, cac40_tickers, cac40_engine)"
   ],
   "metadata": {
    "collapsed": false,
    "pycharm": {
     "name": "#%%\n"
    }
   }
  },
  {
   "cell_type": "code",
   "execution_count": 10,
   "outputs": [],
   "source": [
    "Base = automap_base()\n",
    "\n",
    "Base.prepare(autoload_with=cac40_engine)"
   ],
   "metadata": {
    "collapsed": false,
    "pycharm": {
     "name": "#%%\n"
    }
   }
  },
  {
   "cell_type": "code",
   "execution_count": 11,
   "outputs": [],
   "source": [
    "cac40_classes = {ticker: cls for ticker, cls in zip(cac40_tickers, Base.classes)}"
   ],
   "metadata": {
    "collapsed": false,
    "pycharm": {
     "name": "#%%\n"
    }
   }
  },
  {
   "cell_type": "code",
   "execution_count": 12,
   "outputs": [],
   "source": [
    "session = Session(cac40_engine)"
   ],
   "metadata": {
    "collapsed": false,
    "pycharm": {
     "name": "#%%\n"
    }
   }
  },
  {
   "cell_type": "code",
   "execution_count": 13,
   "outputs": [],
   "source": [
    "query = session.query(cac40_classes['AI.PA'])"
   ],
   "metadata": {
    "collapsed": false,
    "pycharm": {
     "name": "#%%\n"
    }
   }
  },
  {
   "cell_type": "code",
   "execution_count": 14,
   "outputs": [
    {
     "data": {
      "text/plain": "                Datetime        Open        High         Low       Close  \\\n0    2022-11-22 09:00:00  346.299988  347.549988  346.000000  346.649994   \n1    2022-11-22 09:05:00  346.600006  346.750000  345.149994  345.250000   \n2    2022-11-22 09:10:00  345.350006  345.899994  344.799988  345.200012   \n3    2022-11-22 09:15:00  345.200012  346.299988  345.100006  345.750000   \n4    2022-11-22 09:20:00  345.700012  345.700012  343.850006  344.200012   \n...                  ...         ...         ...         ...         ...   \n2240 2022-12-21 17:10:00  341.100006  341.250000  340.950012  341.000000   \n2241 2022-12-21 17:15:00  341.000000  341.100006  340.850006  340.950012   \n2242 2022-12-21 17:20:00  340.899994  341.000000  340.200012  340.450012   \n2243 2022-12-21 17:25:00  340.450012  340.549988  339.950012  340.200012   \n2244 2022-12-21 17:30:00  340.100006  340.100006  340.100006  340.100006   \n\n       Adj Close  Volume  \n0     346.649994       0  \n1     345.250000    2748  \n2     345.200012    2161  \n3     345.750000    2629  \n4     344.200012    6499  \n...          ...     ...  \n2240  341.000000    3068  \n2241  340.950012    2072  \n2242  340.450012    2959  \n2243  340.200012    2775  \n2244  340.100006       0  \n\n[2245 rows x 7 columns]",
      "text/html": "<div>\n<style scoped>\n    .dataframe tbody tr th:only-of-type {\n        vertical-align: middle;\n    }\n\n    .dataframe tbody tr th {\n        vertical-align: top;\n    }\n\n    .dataframe thead th {\n        text-align: right;\n    }\n</style>\n<table border=\"1\" class=\"dataframe\">\n  <thead>\n    <tr style=\"text-align: right;\">\n      <th></th>\n      <th>Datetime</th>\n      <th>Open</th>\n      <th>High</th>\n      <th>Low</th>\n      <th>Close</th>\n      <th>Adj Close</th>\n      <th>Volume</th>\n    </tr>\n  </thead>\n  <tbody>\n    <tr>\n      <th>0</th>\n      <td>2022-11-22 09:00:00</td>\n      <td>346.299988</td>\n      <td>347.549988</td>\n      <td>346.000000</td>\n      <td>346.649994</td>\n      <td>346.649994</td>\n      <td>0</td>\n    </tr>\n    <tr>\n      <th>1</th>\n      <td>2022-11-22 09:05:00</td>\n      <td>346.600006</td>\n      <td>346.750000</td>\n      <td>345.149994</td>\n      <td>345.250000</td>\n      <td>345.250000</td>\n      <td>2748</td>\n    </tr>\n    <tr>\n      <th>2</th>\n      <td>2022-11-22 09:10:00</td>\n      <td>345.350006</td>\n      <td>345.899994</td>\n      <td>344.799988</td>\n      <td>345.200012</td>\n      <td>345.200012</td>\n      <td>2161</td>\n    </tr>\n    <tr>\n      <th>3</th>\n      <td>2022-11-22 09:15:00</td>\n      <td>345.200012</td>\n      <td>346.299988</td>\n      <td>345.100006</td>\n      <td>345.750000</td>\n      <td>345.750000</td>\n      <td>2629</td>\n    </tr>\n    <tr>\n      <th>4</th>\n      <td>2022-11-22 09:20:00</td>\n      <td>345.700012</td>\n      <td>345.700012</td>\n      <td>343.850006</td>\n      <td>344.200012</td>\n      <td>344.200012</td>\n      <td>6499</td>\n    </tr>\n    <tr>\n      <th>...</th>\n      <td>...</td>\n      <td>...</td>\n      <td>...</td>\n      <td>...</td>\n      <td>...</td>\n      <td>...</td>\n      <td>...</td>\n    </tr>\n    <tr>\n      <th>2240</th>\n      <td>2022-12-21 17:10:00</td>\n      <td>341.100006</td>\n      <td>341.250000</td>\n      <td>340.950012</td>\n      <td>341.000000</td>\n      <td>341.000000</td>\n      <td>3068</td>\n    </tr>\n    <tr>\n      <th>2241</th>\n      <td>2022-12-21 17:15:00</td>\n      <td>341.000000</td>\n      <td>341.100006</td>\n      <td>340.850006</td>\n      <td>340.950012</td>\n      <td>340.950012</td>\n      <td>2072</td>\n    </tr>\n    <tr>\n      <th>2242</th>\n      <td>2022-12-21 17:20:00</td>\n      <td>340.899994</td>\n      <td>341.000000</td>\n      <td>340.200012</td>\n      <td>340.450012</td>\n      <td>340.450012</td>\n      <td>2959</td>\n    </tr>\n    <tr>\n      <th>2243</th>\n      <td>2022-12-21 17:25:00</td>\n      <td>340.450012</td>\n      <td>340.549988</td>\n      <td>339.950012</td>\n      <td>340.200012</td>\n      <td>340.200012</td>\n      <td>2775</td>\n    </tr>\n    <tr>\n      <th>2244</th>\n      <td>2022-12-21 17:30:00</td>\n      <td>340.100006</td>\n      <td>340.100006</td>\n      <td>340.100006</td>\n      <td>340.100006</td>\n      <td>340.100006</td>\n      <td>0</td>\n    </tr>\n  </tbody>\n</table>\n<p>2245 rows × 7 columns</p>\n</div>"
     },
     "execution_count": 14,
     "metadata": {},
     "output_type": "execute_result"
    }
   ],
   "source": [
    "pd.read_sql(query.statement, query.session.bind)"
   ],
   "metadata": {
    "collapsed": false,
    "pycharm": {
     "name": "#%%\n"
    }
   }
  },
  {
   "cell_type": "code",
   "execution_count": null,
   "outputs": [],
   "source": [],
   "metadata": {
    "collapsed": false,
    "pycharm": {
     "name": "#%%\n"
    }
   }
  }
 ],
 "metadata": {
  "kernelspec": {
   "display_name": "Python 3",
   "language": "python",
   "name": "python3"
  },
  "language_info": {
   "codemirror_mode": {
    "name": "ipython",
    "version": 2
   },
   "file_extension": ".py",
   "mimetype": "text/x-python",
   "name": "python",
   "nbconvert_exporter": "python",
   "pygments_lexer": "ipython2",
   "version": "2.7.6"
  }
 },
 "nbformat": 4,
 "nbformat_minor": 0
}