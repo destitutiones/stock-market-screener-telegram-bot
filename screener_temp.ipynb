{
 "cells": [
  {
   "cell_type": "code",
   "execution_count": 1,
   "outputs": [],
   "source": [
    "import pandas as pd\n",
    "from sqlalchemy.ext.automap import automap_base\n",
    "from sqlalchemy.orm import Session\n",
    "from sqlalchemy import create_engine\n",
    "from sqlalchemy_utils import database_exists, create_database\n",
    "import yfinance as yf\n",
    "from time import sleep"
   ],
   "metadata": {
    "collapsed": false
   }
  },
  {
   "cell_type": "code",
   "execution_count": 2,
   "outputs": [],
   "source": [
    "wiki = 'https://en.wikipedia.org/wiki/'"
   ],
   "metadata": {
    "collapsed": false
   }
  },
  {
   "cell_type": "code",
   "execution_count": 3,
   "outputs": [],
   "source": [
    "cac40_tickers = pd.read_html(wiki + 'CAC_40', flavor='html5lib')[4]['Ticker'].to_list()"
   ],
   "metadata": {
    "collapsed": false
   }
  },
  {
   "cell_type": "code",
   "execution_count": 4,
   "outputs": [],
   "source": [
    "def get_stock_price_history(tickers):\n",
    "    data = []\n",
    "    for ticker in tickers:\n",
    "        data.append(yf.download(tickers=ticker,\n",
    "                                period=\"5d\",\n",
    "                                interval=\"1m\").reset_index())\n",
    "    return data"
   ],
   "metadata": {
    "collapsed": false
   }
  },
  {
   "cell_type": "code",
   "execution_count": 29,
   "outputs": [
    {
     "name": "stdout",
     "output_type": "stream",
     "text": [
      "[*********************100%***********************]  1 of 1 completed\n",
      "[*********************100%***********************]  1 of 1 completed\n",
      "[*********************100%***********************]  1 of 1 completed\n",
      "[*********************100%***********************]  1 of 1 completed\n",
      "[*********************100%***********************]  1 of 1 completed\n",
      "[*********************100%***********************]  1 of 1 completed\n",
      "[*********************100%***********************]  1 of 1 completed\n",
      "[*********************100%***********************]  1 of 1 completed\n",
      "[*********************100%***********************]  1 of 1 completed\n",
      "[*********************100%***********************]  1 of 1 completed\n",
      "[*********************100%***********************]  1 of 1 completed\n",
      "[*********************100%***********************]  1 of 1 completed\n",
      "[*********************100%***********************]  1 of 1 completed\n",
      "[*********************100%***********************]  1 of 1 completed\n",
      "[*********************100%***********************]  1 of 1 completed\n",
      "[*********************100%***********************]  1 of 1 completed\n",
      "[*********************100%***********************]  1 of 1 completed\n",
      "[*********************100%***********************]  1 of 1 completed\n",
      "[*********************100%***********************]  1 of 1 completed\n",
      "[*********************100%***********************]  1 of 1 completed\n",
      "[*********************100%***********************]  1 of 1 completed\n",
      "[*********************100%***********************]  1 of 1 completed\n",
      "[*********************100%***********************]  1 of 1 completed\n",
      "[*********************100%***********************]  1 of 1 completed\n",
      "[*********************100%***********************]  1 of 1 completed\n",
      "[*********************100%***********************]  1 of 1 completed\n",
      "[*********************100%***********************]  1 of 1 completed\n",
      "[*********************100%***********************]  1 of 1 completed\n",
      "[*********************100%***********************]  1 of 1 completed\n",
      "[*********************100%***********************]  1 of 1 completed\n",
      "[*********************100%***********************]  1 of 1 completed\n",
      "[*********************100%***********************]  1 of 1 completed\n",
      "[*********************100%***********************]  1 of 1 completed\n",
      "[*********************100%***********************]  1 of 1 completed\n",
      "[*********************100%***********************]  1 of 1 completed\n",
      "[*********************100%***********************]  1 of 1 completed\n",
      "[*********************100%***********************]  1 of 1 completed\n",
      "[*********************100%***********************]  1 of 1 completed\n",
      "[*********************100%***********************]  1 of 1 completed\n",
      "[*********************100%***********************]  1 of 1 completed\n"
     ]
    }
   ],
   "source": [
    "cac40 = get_stock_price_history(cac40_tickers)"
   ],
   "metadata": {
    "collapsed": false
   }
  },
  {
   "cell_type": "code",
   "execution_count": 30,
   "outputs": [],
   "source": [
    "def new_engine(name):\n",
    "    engine = create_engine(f'postgresql://pavelkurach@localhost:5432/{name}')\n",
    "    if not database_exists(engine.url):\n",
    "        create_database(engine.url)\n",
    "    print(database_exists(engine.url))\n",
    "    return engine"
   ],
   "metadata": {
    "collapsed": false
   }
  },
  {
   "cell_type": "code",
   "execution_count": 31,
   "outputs": [
    {
     "name": "stdout",
     "output_type": "stream",
     "text": [
      "True\n"
     ]
    }
   ],
   "source": [
    "cac40_engine = new_engine('CAC40')"
   ],
   "metadata": {
    "collapsed": false
   }
  },
  {
   "cell_type": "code",
   "execution_count": 32,
   "outputs": [],
   "source": [
    "def to_sql(frames, tickers, engine):\n",
    "    for frame, ticker in zip(frames, tickers):\n",
    "        frame.to_sql(ticker, engine, if_exists='replace', index=False)\n",
    "        with cac40_engine.connect() as con:\n",
    "            con.execute(f'ALTER TABLE \"{ticker}\" ADD PRIMARY KEY (\"{frame.columns[0]}\");')\n",
    "\n",
    "    print(\"Successfully created a database\")"
   ],
   "metadata": {
    "collapsed": false
   }
  },
  {
   "cell_type": "code",
   "execution_count": 33,
   "outputs": [
    {
     "name": "stdout",
     "output_type": "stream",
     "text": [
      "Successfully created a database\n"
     ]
    }
   ],
   "source": [
    "to_sql(cac40, cac40_tickers, cac40_engine)"
   ],
   "metadata": {
    "collapsed": false
   }
  },
  {
   "cell_type": "code",
   "execution_count": 34,
   "outputs": [],
   "source": [
    "Base = automap_base()\n",
    "\n",
    "Base.prepare(autoload_with=cac40_engine)"
   ],
   "metadata": {
    "collapsed": false
   }
  },
  {
   "cell_type": "code",
   "execution_count": 35,
   "outputs": [],
   "source": [
    "cac40_classes = {ticker: cls for ticker, cls in zip(cac40_tickers, Base.classes)}"
   ],
   "metadata": {
    "collapsed": false
   }
  },
  {
   "cell_type": "code",
   "execution_count": 36,
   "outputs": [],
   "source": [
    "session = Session(cac40_engine)"
   ],
   "metadata": {
    "collapsed": false
   }
  },
  {
   "cell_type": "code",
   "execution_count": 37,
   "outputs": [],
   "source": [
    "query = session.query(cac40_classes['AI.PA'])"
   ],
   "metadata": {
    "collapsed": false
   }
  },
  {
   "cell_type": "code",
   "execution_count": 38,
   "outputs": [
    {
     "data": {
      "text/plain": "                           Open        High         Low       Close  \\\nDatetime                                                              \n2022-12-19 09:00:00  133.520004  133.600006  133.399994  133.399994   \n2022-12-19 09:01:00  133.500000  133.500000  133.399994  133.479996   \n2022-12-19 09:02:00  133.479996  133.580002  133.479996  133.559998   \n2022-12-19 09:03:00  133.520004  133.559998  133.479996  133.520004   \n2022-12-19 09:04:00  133.479996  133.600006  133.479996  133.580002   \n...                         ...         ...         ...         ...   \n2022-12-23 13:25:00  133.460007  133.460007  133.460007  133.460007   \n2022-12-23 13:26:00  133.440002  133.440002  133.440002  133.440002   \n2022-12-23 13:27:00  133.419998  133.419998  133.399994  133.399994   \n2022-12-23 13:28:00  133.419998  133.419998  133.399994  133.419998   \n2022-12-23 13:29:00  133.460007  133.460007  133.460007  133.460007   \n\n                      Adj Close  Volume  \nDatetime                                 \n2022-12-19 09:00:00  133.399994       0  \n2022-12-19 09:01:00  133.479996     964  \n2022-12-19 09:02:00  133.559998     527  \n2022-12-19 09:03:00  133.520004     526  \n2022-12-19 09:04:00  133.580002     646  \n...                         ...     ...  \n2022-12-23 13:25:00  133.460007       2  \n2022-12-23 13:26:00  133.440002     133  \n2022-12-23 13:27:00  133.399994     227  \n2022-12-23 13:28:00  133.419998     158  \n2022-12-23 13:29:00  133.460007       0  \n\n[2260 rows x 6 columns]",
      "text/html": "<div>\n<style scoped>\n    .dataframe tbody tr th:only-of-type {\n        vertical-align: middle;\n    }\n\n    .dataframe tbody tr th {\n        vertical-align: top;\n    }\n\n    .dataframe thead th {\n        text-align: right;\n    }\n</style>\n<table border=\"1\" class=\"dataframe\">\n  <thead>\n    <tr style=\"text-align: right;\">\n      <th></th>\n      <th>Open</th>\n      <th>High</th>\n      <th>Low</th>\n      <th>Close</th>\n      <th>Adj Close</th>\n      <th>Volume</th>\n    </tr>\n    <tr>\n      <th>Datetime</th>\n      <th></th>\n      <th></th>\n      <th></th>\n      <th></th>\n      <th></th>\n      <th></th>\n    </tr>\n  </thead>\n  <tbody>\n    <tr>\n      <th>2022-12-19 09:00:00</th>\n      <td>133.520004</td>\n      <td>133.600006</td>\n      <td>133.399994</td>\n      <td>133.399994</td>\n      <td>133.399994</td>\n      <td>0</td>\n    </tr>\n    <tr>\n      <th>2022-12-19 09:01:00</th>\n      <td>133.500000</td>\n      <td>133.500000</td>\n      <td>133.399994</td>\n      <td>133.479996</td>\n      <td>133.479996</td>\n      <td>964</td>\n    </tr>\n    <tr>\n      <th>2022-12-19 09:02:00</th>\n      <td>133.479996</td>\n      <td>133.580002</td>\n      <td>133.479996</td>\n      <td>133.559998</td>\n      <td>133.559998</td>\n      <td>527</td>\n    </tr>\n    <tr>\n      <th>2022-12-19 09:03:00</th>\n      <td>133.520004</td>\n      <td>133.559998</td>\n      <td>133.479996</td>\n      <td>133.520004</td>\n      <td>133.520004</td>\n      <td>526</td>\n    </tr>\n    <tr>\n      <th>2022-12-19 09:04:00</th>\n      <td>133.479996</td>\n      <td>133.600006</td>\n      <td>133.479996</td>\n      <td>133.580002</td>\n      <td>133.580002</td>\n      <td>646</td>\n    </tr>\n    <tr>\n      <th>...</th>\n      <td>...</td>\n      <td>...</td>\n      <td>...</td>\n      <td>...</td>\n      <td>...</td>\n      <td>...</td>\n    </tr>\n    <tr>\n      <th>2022-12-23 13:25:00</th>\n      <td>133.460007</td>\n      <td>133.460007</td>\n      <td>133.460007</td>\n      <td>133.460007</td>\n      <td>133.460007</td>\n      <td>2</td>\n    </tr>\n    <tr>\n      <th>2022-12-23 13:26:00</th>\n      <td>133.440002</td>\n      <td>133.440002</td>\n      <td>133.440002</td>\n      <td>133.440002</td>\n      <td>133.440002</td>\n      <td>133</td>\n    </tr>\n    <tr>\n      <th>2022-12-23 13:27:00</th>\n      <td>133.419998</td>\n      <td>133.419998</td>\n      <td>133.399994</td>\n      <td>133.399994</td>\n      <td>133.399994</td>\n      <td>227</td>\n    </tr>\n    <tr>\n      <th>2022-12-23 13:28:00</th>\n      <td>133.419998</td>\n      <td>133.419998</td>\n      <td>133.399994</td>\n      <td>133.419998</td>\n      <td>133.419998</td>\n      <td>158</td>\n    </tr>\n    <tr>\n      <th>2022-12-23 13:29:00</th>\n      <td>133.460007</td>\n      <td>133.460007</td>\n      <td>133.460007</td>\n      <td>133.460007</td>\n      <td>133.460007</td>\n      <td>0</td>\n    </tr>\n  </tbody>\n</table>\n<p>2260 rows × 6 columns</p>\n</div>"
     },
     "execution_count": 38,
     "metadata": {},
     "output_type": "execute_result"
    }
   ],
   "source": [
    "df = pd.read_sql(query.statement, query.session.bind, index_col='Datetime')\n",
    "df"
   ],
   "metadata": {
    "collapsed": false
   }
  },
  {
   "cell_type": "code",
   "execution_count": 39,
   "outputs": [
    {
     "data": {
      "text/plain": "Datetime\n2022-12-19 09:00:00         NaN\n2022-12-19 09:01:00    0.000600\n2022-12-19 09:02:00    0.000599\n2022-12-19 09:03:00   -0.000299\n2022-12-19 09:04:00    0.000449\n                         ...   \n2022-12-23 13:25:00    0.000000\n2022-12-23 13:26:00   -0.000150\n2022-12-23 13:27:00   -0.000300\n2022-12-23 13:28:00    0.000150\n2022-12-23 13:29:00    0.000300\nName: Close, Length: 2260, dtype: float64"
     },
     "execution_count": 39,
     "metadata": {},
     "output_type": "execute_result"
    }
   ],
   "source": [
    "import matplotlib\n",
    "\n",
    "df.Close.pct_change()"
   ],
   "metadata": {
    "collapsed": false
   }
  },
  {
   "cell_type": "code",
   "execution_count": 40,
   "outputs": [
    {
     "name": "stdout",
     "output_type": "stream",
     "text": [
      "Datetime\n",
      "2022-12-19 09:00:00         NaN\n",
      "2022-12-19 09:01:00    0.000750\n",
      "2022-12-19 09:02:00    0.000749\n",
      "2022-12-19 09:03:00    0.000000\n",
      "2022-12-19 09:04:00    0.000599\n",
      "                         ...   \n",
      "2022-12-23 13:25:00    0.000000\n",
      "2022-12-23 13:26:00   -0.000150\n",
      "2022-12-23 13:27:00   -0.000150\n",
      "2022-12-23 13:28:00    0.000150\n",
      "2022-12-23 13:29:00    0.000300\n",
      "Length: 2260, dtype: float64\n"
     ]
    }
   ],
   "source": [
    "import numpy as np\n",
    "\n",
    "highs = df['High'] / df['Close'].shift() - 1\n",
    "print(highs)"
   ],
   "metadata": {
    "collapsed": false
   }
  },
  {
   "cell_type": "code",
   "execution_count": 41,
   "outputs": [
    {
     "data": {
      "text/plain": "35"
     },
     "execution_count": 41,
     "metadata": {},
     "output_type": "execute_result"
    }
   ],
   "source": [
    "lows = df['Low'] / df['Close'].shift() - 1\n",
    "np.sum(lows < -3 * lows.std())"
   ],
   "metadata": {
    "collapsed": false
   }
  },
  {
   "cell_type": "code",
   "execution_count": 42,
   "outputs": [
    {
     "name": "stdout",
     "output_type": "stream",
     "text": [
      "2022-12-23 13:45:19.375647\n",
      "True\n"
     ]
    },
    {
     "data": {
      "text/plain": "Timestamp('2022-12-23 13:29:00')"
     },
     "execution_count": 42,
     "metadata": {},
     "output_type": "execute_result"
    }
   ],
   "source": [
    "import datetime as dt\n",
    "\n",
    "print(dt.datetime.now())\n",
    "print(df.index[0] < dt.datetime.now())\n",
    "start = df.index[-1]\n",
    "start"
   ],
   "metadata": {
    "collapsed": false
   }
  },
  {
   "cell_type": "code",
   "execution_count": 43,
   "outputs": [
    {
     "name": "stdout",
     "output_type": "stream",
     "text": [
      "[*********************100%***********************]  1 of 1 completed\n"
     ]
    },
    {
     "data": {
      "text/plain": "               Datetime        Open        High         Low       Close  \\\n0   2022-12-23 09:00:00  133.619995  133.839996  133.619995  133.740005   \n1   2022-12-23 09:01:00  133.779999  133.919998  133.779999  133.899994   \n2   2022-12-23 09:02:00  133.960007  134.039993  133.960007  134.039993   \n3   2022-12-23 09:03:00  134.020004  134.020004  133.979996  133.979996   \n4   2022-12-23 09:04:00  133.960007  133.960007  133.860001  133.860001   \n..                  ...         ...         ...         ...         ...   \n255 2022-12-23 13:26:00  133.440002  133.440002  133.440002  133.440002   \n256 2022-12-23 13:27:00  133.419998  133.419998  133.399994  133.399994   \n257 2022-12-23 13:28:00  133.419998  133.419998  133.399994  133.419998   \n258 2022-12-23 13:29:00  133.440002  133.460007  133.440002  133.460007   \n259 2022-12-23 13:30:00  133.479996  133.479996  133.479996  133.479996   \n\n      Adj Close  Volume  \n0    133.740005       0  \n1    133.899994     329  \n2    134.039993     746  \n3    133.979996     100  \n4    133.860001     569  \n..          ...     ...  \n255  133.440002     133  \n256  133.399994     227  \n257  133.419998     158  \n258  133.460007      81  \n259  133.479996       0  \n\n[260 rows x 7 columns]",
      "text/html": "<div>\n<style scoped>\n    .dataframe tbody tr th:only-of-type {\n        vertical-align: middle;\n    }\n\n    .dataframe tbody tr th {\n        vertical-align: top;\n    }\n\n    .dataframe thead th {\n        text-align: right;\n    }\n</style>\n<table border=\"1\" class=\"dataframe\">\n  <thead>\n    <tr style=\"text-align: right;\">\n      <th></th>\n      <th>Datetime</th>\n      <th>Open</th>\n      <th>High</th>\n      <th>Low</th>\n      <th>Close</th>\n      <th>Adj Close</th>\n      <th>Volume</th>\n    </tr>\n  </thead>\n  <tbody>\n    <tr>\n      <th>0</th>\n      <td>2022-12-23 09:00:00</td>\n      <td>133.619995</td>\n      <td>133.839996</td>\n      <td>133.619995</td>\n      <td>133.740005</td>\n      <td>133.740005</td>\n      <td>0</td>\n    </tr>\n    <tr>\n      <th>1</th>\n      <td>2022-12-23 09:01:00</td>\n      <td>133.779999</td>\n      <td>133.919998</td>\n      <td>133.779999</td>\n      <td>133.899994</td>\n      <td>133.899994</td>\n      <td>329</td>\n    </tr>\n    <tr>\n      <th>2</th>\n      <td>2022-12-23 09:02:00</td>\n      <td>133.960007</td>\n      <td>134.039993</td>\n      <td>133.960007</td>\n      <td>134.039993</td>\n      <td>134.039993</td>\n      <td>746</td>\n    </tr>\n    <tr>\n      <th>3</th>\n      <td>2022-12-23 09:03:00</td>\n      <td>134.020004</td>\n      <td>134.020004</td>\n      <td>133.979996</td>\n      <td>133.979996</td>\n      <td>133.979996</td>\n      <td>100</td>\n    </tr>\n    <tr>\n      <th>4</th>\n      <td>2022-12-23 09:04:00</td>\n      <td>133.960007</td>\n      <td>133.960007</td>\n      <td>133.860001</td>\n      <td>133.860001</td>\n      <td>133.860001</td>\n      <td>569</td>\n    </tr>\n    <tr>\n      <th>...</th>\n      <td>...</td>\n      <td>...</td>\n      <td>...</td>\n      <td>...</td>\n      <td>...</td>\n      <td>...</td>\n      <td>...</td>\n    </tr>\n    <tr>\n      <th>255</th>\n      <td>2022-12-23 13:26:00</td>\n      <td>133.440002</td>\n      <td>133.440002</td>\n      <td>133.440002</td>\n      <td>133.440002</td>\n      <td>133.440002</td>\n      <td>133</td>\n    </tr>\n    <tr>\n      <th>256</th>\n      <td>2022-12-23 13:27:00</td>\n      <td>133.419998</td>\n      <td>133.419998</td>\n      <td>133.399994</td>\n      <td>133.399994</td>\n      <td>133.399994</td>\n      <td>227</td>\n    </tr>\n    <tr>\n      <th>257</th>\n      <td>2022-12-23 13:28:00</td>\n      <td>133.419998</td>\n      <td>133.419998</td>\n      <td>133.399994</td>\n      <td>133.419998</td>\n      <td>133.419998</td>\n      <td>158</td>\n    </tr>\n    <tr>\n      <th>258</th>\n      <td>2022-12-23 13:29:00</td>\n      <td>133.440002</td>\n      <td>133.460007</td>\n      <td>133.440002</td>\n      <td>133.460007</td>\n      <td>133.460007</td>\n      <td>81</td>\n    </tr>\n    <tr>\n      <th>259</th>\n      <td>2022-12-23 13:30:00</td>\n      <td>133.479996</td>\n      <td>133.479996</td>\n      <td>133.479996</td>\n      <td>133.479996</td>\n      <td>133.479996</td>\n      <td>0</td>\n    </tr>\n  </tbody>\n</table>\n<p>260 rows × 7 columns</p>\n</div>"
     },
     "execution_count": 43,
     "metadata": {},
     "output_type": "execute_result"
    }
   ],
   "source": [
    "yf.download(tickers='AI.PA',\n",
    "            period=\"1d\",\n",
    "            interval=\"1m\").reset_index()"
   ],
   "metadata": {
    "collapsed": false
   }
  },
  {
   "cell_type": "code",
   "execution_count": 18,
   "outputs": [
    {
     "data": {
      "text/plain": "{'AI.PA': 0.0004388542756115271,\n 'AIR.PA': 0.0004388542756115271,\n 'ALO.PA': 0.0004388542756115271,\n 'MT.AS': 0.0004388542756115271,\n 'CS.PA': 0.0004388542756115271,\n 'BNP.PA': 0.0004388542756115271,\n 'EN.PA': 0.0004388542756115271,\n 'CAP.PA': 0.0004388542756115271,\n 'CA.PA': 0.0004388542756115271,\n 'ACA.PA': 0.0004388542756115271,\n 'BN.PA': 0.0004388542756115271,\n 'DSY.PA': 0.0004388542756115271,\n 'ENGI.PA': 0.0004388542756115271,\n 'EL.PA': 0.0004388542756115271,\n 'ERF.PA': 0.0004388542756115271,\n 'RMS.PA': 0.0004388542756115271,\n 'KER.PA': 0.0004388542756115271,\n 'OR.PA': 0.0004388542756115271,\n 'LR.PA': 0.0004388542756115271,\n 'MC.PA': 0.0004388542756115271,\n 'ML.PA': 0.0004388542756115271,\n 'ORA.PA': 0.0004388542756115271,\n 'RI.PA': 0.0004388542756115271,\n 'PUB.PA': 0.0004388542756115271,\n 'RNO.PA': 0.0004388542756115271,\n 'SAF.PA': 0.0004388542756115271,\n 'SGO.PA': 0.0004388542756115271,\n 'SAN.PA': 0.0004388542756115271,\n 'SU.PA': 0.0004388542756115271,\n 'GLE.PA': 0.0004388542756115271,\n 'STLA.PA': 0.0004388542756115271,\n 'STM.PA': 0.0004388542756115271,\n 'TEP.PA': 0.0004388542756115271,\n 'HO.PA': 0.0004388542756115271,\n 'TTE.PA': 0.0004388542756115271,\n 'URW.AS': 0.0004388542756115271,\n 'VIE.PA': 0.0004388542756115271,\n 'DG.PA': 0.0004388542756115271,\n 'VIV.PA': 0.0004388542756115271,\n 'WLN.PA': 0.0004388542756115271}"
     },
     "execution_count": 18,
     "metadata": {},
     "output_type": "execute_result"
    }
   ],
   "source": [
    "sigma = {}\n",
    "for ticker in cac40_tickers:\n",
    "    query = session.query(cac40_classes[ticker])\n",
    "    temp_df = pd.read_sql(query.statement, query.session.bind, index_col='Datetime')\n",
    "    sigma[ticker] = df.Close.pct_change().std()\n",
    "\n",
    "sigma"
   ],
   "metadata": {
    "collapsed": false
   }
  },
  {
   "cell_type": "code",
   "execution_count": 49,
   "outputs": [
    {
     "name": "stdout",
     "output_type": "stream",
     "text": [
      "AIR.PA stock price moved by 0.09% (2.04x volatility) from 13:43 to 13:44.\n",
      "AIR.PA stock price moved by 0.09% (2.04x volatility) from 14:07 to 14:09.\n",
      "AIR.PA stock price moved by 0.09% (2.04x volatility) from 14:29 to 14:30.\n",
      "AIR.PA stock price moved by 0.14% (3.27x volatility) from 14:33 to 14:34.\n",
      "AIR.PA stock price moved by 0.21% (4.88x volatility) from 14:38 to 14:39.\n",
      "AIR.PA stock price moved by 0.11% (2.44x volatility) from 14:41 to 14:42.\n",
      "AIR.PA stock price moved by 0.16% (3.68x volatility) from 15:30 to 15:31.\n",
      "AIR.PA stock price moved by 0.09% (2.05x volatility) from 15:36 to 15:37.\n",
      "AIR.PA stock price moved by 0.09% (2.05x volatility) from 15:57 to 15:58.\n",
      "AIR.PA stock price moved by 0.09% (2.04x volatility) from 16:07 to 16:08.\n",
      "AIR.PA stock price moved by 0.09% (2.04x volatility) from 16:09 to 16:10.\n",
      "AIR.PA stock price moved by 0.09% (2.04x volatility) from 16:10 to 16:11.\n",
      "AIR.PA stock price moved by 0.11% (2.45x volatility) from 16:15 to 16:16.\n",
      "AIR.PA stock price moved by 0.09% (2.04x volatility) from 16:16 to 16:17.\n",
      "AIR.PA stock price moved by 0.09% (2.03x volatility) from 16:37 to 16:38.\n",
      "ALO.PA stock price moved by 0.17% (3.95x volatility) from 14:30 to 14:31.\n",
      "ALO.PA stock price moved by 0.17% (3.95x volatility) from 14:36 to 14:37.\n",
      "ALO.PA stock price moved by 0.17% (3.94x volatility) from 14:38 to 14:39.\n",
      "ALO.PA stock price moved by 0.13% (2.95x volatility) from 14:41 to 14:42.\n",
      "ALO.PA stock price moved by 0.13% (2.97x volatility) from 14:51 to 14:52.\n",
      "ALO.PA stock price moved by 0.13% (2.98x volatility) from 15:30 to 15:31.\n",
      "ALO.PA stock price moved by 0.13% (2.99x volatility) from 15:42 to 15:43.\n",
      "ALO.PA stock price moved by 0.48% (10.97x volatility) from 15:57 to 16:00.\n",
      "ALO.PA stock price moved by 0.13% (2.99x volatility) from 16:02 to 16:03.\n",
      "ALO.PA stock price moved by 0.13% (2.98x volatility) from 16:07 to 16:08.\n",
      "ALO.PA stock price moved by 0.22% (4.96x volatility) from 16:15 to 16:16.\n",
      "MT.AS stock price moved by 0.16% (3.61x volatility) from 13:46 to 13:47.\n",
      "MT.AS stock price moved by 0.14% (3.15x volatility) from 13:53 to 13:54.\n",
      "MT.AS stock price moved by 0.14% (3.15x volatility) from 14:15 to 14:16.\n",
      "MT.AS stock price moved by 0.10% (2.26x volatility) from 14:30 to 14:31.\n",
      "MT.AS stock price moved by 0.10% (2.26x volatility) from 14:32 to 14:33.\n",
      "MT.AS stock price moved by 0.12% (2.71x volatility) from 14:37 to 14:38.\n",
      "MT.AS stock price moved by 0.14% (3.16x volatility) from 14:38 to 14:39.\n",
      "MT.AS stock price moved by 0.10% (2.26x volatility) from 14:40 to 14:41.\n",
      "MT.AS stock price moved by 0.24% (5.42x volatility) from 14:41 to 14:42.\n",
      "MT.AS stock price moved by 0.10% (2.27x volatility) from 15:08 to 15:09.\n",
      "MT.AS stock price moved by 0.10% (2.27x volatility) from 15:30 to 15:31.\n",
      "MT.AS stock price moved by 0.12% (2.74x volatility) from 15:36 to 15:37.\n",
      "MT.AS stock price moved by 0.26% (5.93x volatility) from 15:59 to 16:00.\n",
      "MT.AS stock price moved by 0.16% (3.65x volatility) from 16:07 to 16:08.\n",
      "MT.AS stock price moved by 0.14% (3.19x volatility) from 16:09 to 16:10.\n",
      "MT.AS stock price moved by 0.16% (3.65x volatility) from 16:15 to 16:16.\n",
      "MT.AS stock price moved by 0.10% (2.28x volatility) from 16:16 to 16:17.\n",
      "MT.AS stock price moved by 0.10% (2.27x volatility) from 16:29 to 16:30.\n",
      "MT.AS stock price moved by 0.10% (2.27x volatility) from 16:59 to 17:00.\n",
      "MT.AS stock price moved by 0.12% (2.72x volatility) from 17:03 to 17:04.\n",
      "CS.PA stock price moved by 0.13% (3.01x volatility) from 14:29 to 14:30.\n",
      "CS.PA stock price moved by 0.09% (2.15x volatility) from 16:54 to 16:55.\n",
      "BNP.PA stock price moved by 0.17% (3.80x volatility) from 14:29 to 14:30.\n",
      "BNP.PA stock price moved by 0.11% (2.54x volatility) from 15:28 to 15:30.\n",
      "BNP.PA stock price moved by 0.09% (2.11x volatility) from 15:31 to 15:32.\n",
      "BNP.PA stock price moved by 0.09% (2.12x volatility) from 15:59 to 16:00.\n",
      "BNP.PA stock price moved by 0.09% (2.12x volatility) from 16:09 to 16:10.\n",
      "BNP.PA stock price moved by 0.11% (2.54x volatility) from 16:10 to 16:11.\n",
      "BNP.PA stock price moved by 0.11% (2.54x volatility) from 16:15 to 16:16.\n",
      "EN.PA stock price moved by 0.21% (4.81x volatility) from 14:36 to 14:38.\n",
      "EN.PA stock price moved by 0.14% (3.21x volatility) from 15:58 to 16:00.\n",
      "EN.PA stock price moved by 0.11% (2.41x volatility) from 16:16 to 16:17.\n",
      "EN.PA stock price moved by 0.11% (2.40x volatility) from 16:37 to 16:38.\n",
      "CAP.PA stock price moved by 0.10% (2.20x volatility) from 14:35 to 14:36.\n",
      "CAP.PA stock price moved by 0.16% (3.66x volatility) from 14:36 to 14:37.\n",
      "CAP.PA stock price moved by 0.22% (5.11x volatility) from 14:37 to 14:38.\n",
      "CAP.PA stock price moved by 0.10% (2.18x volatility) from 14:38 to 14:39.\n",
      "CAP.PA stock price moved by 0.13% (2.91x volatility) from 14:41 to 14:42.\n",
      "CAP.PA stock price moved by 0.10% (2.20x volatility) from 15:06 to 15:07.\n",
      "CAP.PA stock price moved by 0.13% (2.93x volatility) from 15:29 to 15:30.\n",
      "CAP.PA stock price moved by 0.10% (2.20x volatility) from 15:31 to 15:32.\n",
      "CAP.PA stock price moved by 0.10% (2.20x volatility) from 15:40 to 15:41.\n",
      "CAP.PA stock price moved by 0.10% (2.20x volatility) from 15:48 to 15:49.\n",
      "CAP.PA stock price moved by 0.16% (3.67x volatility) from 15:51 to 15:52.\n",
      "CAP.PA stock price moved by 0.26% (5.86x volatility) from 15:59 to 16:00.\n",
      "CAP.PA stock price moved by 0.13% (2.93x volatility) from 16:01 to 16:02.\n",
      "CAP.PA stock price moved by 0.10% (2.20x volatility) from 16:03 to 16:04.\n",
      "CAP.PA stock price moved by 0.13% (2.93x volatility) from 16:06 to 16:07.\n",
      "CAP.PA stock price moved by 0.10% (2.20x volatility) from 16:07 to 16:08.\n",
      "CAP.PA stock price moved by 0.10% (2.19x volatility) from 16:16 to 16:17.\n",
      "CAP.PA stock price moved by 0.10% (2.20x volatility) from 17:13 to 17:14.\n",
      "CA.PA stock price moved by 0.19% (4.27x volatility) from 14:29 to 14:30.\n",
      "CA.PA stock price moved by 0.09% (2.14x volatility) from 14:33 to 14:34.\n",
      "CA.PA stock price moved by 0.16% (3.56x volatility) from 14:36 to 14:38.\n",
      "CA.PA stock price moved by 0.12% (2.84x volatility) from 14:40 to 14:44.\n",
      "CA.PA stock price moved by 0.13% (2.85x volatility) from 15:31 to 15:32.\n",
      "CA.PA stock price moved by 0.09% (2.14x volatility) from 15:40 to 15:42.\n",
      "CA.PA stock price moved by 0.09% (2.14x volatility) from 16:19 to 16:20.\n",
      "CA.PA stock price moved by 0.12% (2.85x volatility) from 16:20 to 16:21.\n",
      "CA.PA stock price moved by 0.25% (5.70x volatility) from 17:29 to 17:30.\n",
      "ACA.PA stock price moved by 0.10% (2.33x volatility) from 14:36 to 14:37.\n",
      "ACA.PA stock price moved by 0.10% (2.32x volatility) from 14:37 to 14:38.\n",
      "ACA.PA stock price moved by 0.09% (2.10x volatility) from 15:30 to 15:31.\n",
      "ACA.PA stock price moved by 0.09% (2.10x volatility) from 15:31 to 15:32.\n",
      "ACA.PA stock price moved by 0.13% (3.04x volatility) from 15:57 to 15:58.\n",
      "ACA.PA stock price moved by 0.09% (2.10x volatility) from 16:09 to 16:10.\n",
      "ACA.PA stock price moved by 0.10% (2.33x volatility) from 16:15 to 16:16.\n",
      "BN.PA stock price moved by 0.19% (4.33x volatility) from 14:29 to 14:30.\n",
      "BN.PA stock price moved by 0.12% (2.73x volatility) from 14:38 to 14:39.\n",
      "DSY.PA stock price moved by 0.18% (4.09x volatility) from 14:28 to 14:29.\n",
      "DSY.PA stock price moved by 0.12% (2.74x volatility) from 14:35 to 14:36.\n",
      "DSY.PA stock price moved by 0.21% (4.79x volatility) from 14:36 to 14:37.\n",
      "DSY.PA stock price moved by 0.10% (2.39x volatility) from 14:37 to 14:38.\n",
      "DSY.PA stock price moved by 0.36% (8.19x volatility) from 14:38 to 14:39.\n",
      "DSY.PA stock price moved by 0.22% (5.10x volatility) from 14:41 to 14:42.\n",
      "DSY.PA stock price moved by 0.09% (2.05x volatility) from 15:06 to 15:08.\n",
      "DSY.PA stock price moved by 0.09% (2.05x volatility) from 15:29 to 15:30.\n",
      "DSY.PA stock price moved by 0.16% (3.76x volatility) from 15:31 to 15:32.\n",
      "DSY.PA stock price moved by 0.14% (3.09x volatility) from 15:36 to 15:37.\n",
      "DSY.PA stock price moved by 0.17% (3.78x volatility) from 15:40 to 15:41.\n",
      "DSY.PA stock price moved by 0.09% (2.06x volatility) from 15:51 to 15:52.\n",
      "DSY.PA stock price moved by 0.32% (7.19x volatility) from 15:58 to 16:00.\n",
      "DSY.PA stock price moved by 0.15% (3.43x volatility) from 16:04 to 16:05.\n",
      "DSY.PA stock price moved by 0.24% (5.48x volatility) from 16:07 to 16:08.\n",
      "DSY.PA stock price moved by 0.19% (4.44x volatility) from 16:10 to 16:11.\n",
      "DSY.PA stock price moved by 0.12% (2.73x volatility) from 16:15 to 16:16.\n",
      "DSY.PA stock price moved by 0.09% (2.04x volatility) from 16:20 to 16:21.\n",
      "ENGI.PA stock price moved by 0.09% (2.02x volatility) from 14:33 to 14:34.\n",
      "ENGI.PA stock price moved by 0.09% (2.02x volatility) from 14:37 to 14:38.\n",
      "ENGI.PA stock price moved by 0.12% (2.69x volatility) from 14:38 to 14:39.\n",
      "ENGI.PA stock price moved by 0.09% (2.02x volatility) from 15:31 to 15:32.\n",
      "ENGI.PA stock price moved by 0.15% (3.37x volatility) from 15:59 to 16:00.\n",
      "ENGI.PA stock price moved by 0.10% (2.35x volatility) from 16:15 to 16:16.\n",
      "ENGI.PA stock price moved by 0.09% (2.01x volatility) from 16:18 to 16:19.\n",
      "EL.PA stock price moved by 0.29% (6.66x volatility) from 14:27 to 14:29.\n",
      "EL.PA stock price moved by 0.12% (2.68x volatility) from 14:33 to 14:34.\n",
      "EL.PA stock price moved by 0.15% (3.35x volatility) from 14:35 to 14:36.\n",
      "EL.PA stock price moved by 0.12% (2.67x volatility) from 14:36 to 14:37.\n",
      "EL.PA stock price moved by 0.38% (8.68x volatility) from 14:37 to 14:39.\n",
      "EL.PA stock price moved by 0.18% (3.99x volatility) from 14:41 to 14:42.\n",
      "EL.PA stock price moved by 0.09% (2.01x volatility) from 14:55 to 14:56.\n",
      "EL.PA stock price moved by 0.09% (2.02x volatility) from 15:41 to 15:42.\n",
      "EL.PA stock price moved by 0.09% (2.02x volatility) from 15:48 to 15:49.\n",
      "EL.PA stock price moved by 0.21% (4.70x volatility) from 15:59 to 16:00.\n",
      "EL.PA stock price moved by 0.09% (2.01x volatility) from 16:01 to 16:02.\n",
      "EL.PA stock price moved by 0.12% (2.69x volatility) from 16:07 to 16:08.\n",
      "EL.PA stock price moved by 0.12% (2.68x volatility) from 16:09 to 16:10.\n",
      "EL.PA stock price moved by 0.09% (2.01x volatility) from 16:10 to 16:11.\n",
      "EL.PA stock price moved by 0.15% (3.35x volatility) from 16:15 to 16:16.\n",
      "EL.PA stock price moved by 0.09% (2.01x volatility) from 16:16 to 16:17.\n",
      "EL.PA stock price moved by 0.09% (2.00x volatility) from 16:33 to 16:34.\n",
      "EL.PA stock price moved by 0.09% (2.00x volatility) from 16:50 to 16:51.\n",
      "EL.PA stock price moved by 0.09% (2.00x volatility) from 16:54 to 16:55.\n",
      "ERF.PA stock price moved by 0.24% (5.50x volatility) from 14:28 to 14:29.\n",
      "ERF.PA stock price moved by 0.15% (3.47x volatility) from 14:33 to 14:34.\n",
      "ERF.PA stock price moved by 0.21% (4.84x volatility) from 14:35 to 14:36.\n",
      "ERF.PA stock price moved by 0.09% (2.07x volatility) from 14:36 to 14:37.\n",
      "ERF.PA stock price moved by 0.21% (4.83x volatility) from 14:37 to 14:38.\n",
      "ERF.PA stock price moved by 0.18% (4.13x volatility) from 14:38 to 14:39.\n",
      "ERF.PA stock price moved by 0.24% (5.50x volatility) from 14:41 to 14:42.\n",
      "ERF.PA stock price moved by 0.15% (3.45x volatility) from 15:00 to 15:01.\n",
      "ERF.PA stock price moved by 0.18% (4.14x volatility) from 15:06 to 15:07.\n",
      "ERF.PA stock price moved by 0.09% (2.07x volatility) from 15:13 to 15:14.\n",
      "ERF.PA stock price moved by 0.09% (2.07x volatility) from 15:15 to 15:16.\n",
      "ERF.PA stock price moved by 0.09% (2.06x volatility) from 15:16 to 15:17.\n",
      "ERF.PA stock price moved by 0.15% (3.46x volatility) from 15:36 to 15:37.\n",
      "ERF.PA stock price moved by 0.09% (2.07x volatility) from 15:41 to 15:42.\n",
      "ERF.PA stock price moved by 0.09% (2.07x volatility) from 15:57 to 15:58.\n",
      "ERF.PA stock price moved by 0.12% (2.76x volatility) from 15:59 to 16:00.\n",
      "ERF.PA stock price moved by 0.12% (2.77x volatility) from 16:06 to 16:07.\n",
      "ERF.PA stock price moved by 0.18% (4.14x volatility) from 16:07 to 16:08.\n",
      "ERF.PA stock price moved by 0.12% (2.76x volatility) from 16:10 to 16:11.\n",
      "ERF.PA stock price moved by 0.21% (4.82x volatility) from 16:17 to 16:18.\n",
      "ERF.PA stock price moved by 0.09% (2.06x volatility) from 16:30 to 16:32.\n",
      "ERF.PA stock price moved by 0.09% (2.07x volatility) from 17:09 to 17:10.\n",
      "ERF.PA stock price moved by 0.09% (2.06x volatility) from 17:10 to 17:11.\n",
      "RMS.PA stock price moved by 0.34% (7.84x volatility) from 14:28 to 14:29.\n",
      "RMS.PA stock price moved by 0.21% (4.73x volatility) from 14:35 to 14:36.\n",
      "RMS.PA stock price moved by 0.14% (3.15x volatility) from 14:36 to 14:37.\n",
      "RMS.PA stock price moved by 0.17% (3.93x volatility) from 14:37 to 14:38.\n",
      "RMS.PA stock price moved by 0.31% (7.06x volatility) from 14:38 to 14:39.\n",
      "RMS.PA stock price moved by 0.21% (4.70x volatility) from 14:41 to 14:42.\n",
      "RMS.PA stock price moved by 0.10% (2.37x volatility) from 15:04 to 15:05.\n",
      "RMS.PA stock price moved by 0.14% (3.18x volatility) from 15:36 to 15:37.\n",
      "RMS.PA stock price moved by 0.10% (2.38x volatility) from 15:48 to 15:49.\n",
      "RMS.PA stock price moved by 0.31% (7.15x volatility) from 15:59 to 16:00.\n",
      "RMS.PA stock price moved by 0.10% (2.38x volatility) from 16:04 to 16:05.\n",
      "RMS.PA stock price moved by 0.21% (4.76x volatility) from 16:07 to 16:08.\n",
      "RMS.PA stock price moved by 0.10% (2.37x volatility) from 16:09 to 16:10.\n",
      "RMS.PA stock price moved by 0.10% (2.37x volatility) from 16:10 to 16:11.\n",
      "RMS.PA stock price moved by 0.10% (2.37x volatility) from 16:15 to 16:16.\n",
      "RMS.PA stock price moved by 0.14% (3.16x volatility) from 16:16 to 16:17.\n",
      "RMS.PA stock price moved by 0.10% (2.37x volatility) from 16:29 to 16:30.\n",
      "RMS.PA stock price moved by 0.10% (2.37x volatility) from 16:33 to 16:34.\n",
      "RMS.PA stock price moved by 0.10% (2.37x volatility) from 16:54 to 16:55.\n",
      "RMS.PA stock price moved by 0.24% (5.54x volatility) from 17:29 to 17:30.\n",
      "KER.PA stock price moved by 0.15% (3.39x volatility) from 14:35 to 14:36.\n",
      "KER.PA stock price moved by 0.37% (8.45x volatility) from 14:38 to 14:39.\n",
      "KER.PA stock price moved by 0.23% (5.30x volatility) from 14:41 to 14:42.\n",
      "KER.PA stock price moved by 0.11% (2.42x volatility) from 15:31 to 15:32.\n",
      "KER.PA stock price moved by 0.11% (2.43x volatility) from 15:39 to 15:40.\n",
      "KER.PA stock price moved by 0.11% (2.43x volatility) from 15:48 to 15:49.\n",
      "KER.PA stock price moved by 0.13% (2.92x volatility) from 15:57 to 15:58.\n",
      "KER.PA stock price moved by 0.34% (7.77x volatility) from 15:59 to 16:00.\n",
      "KER.PA stock price moved by 0.17% (3.88x volatility) from 16:07 to 16:08.\n",
      "KER.PA stock price moved by 0.15% (3.39x volatility) from 16:09 to 16:10.\n",
      "KER.PA stock price moved by 0.11% (2.42x volatility) from 16:10 to 16:11.\n",
      "KER.PA stock price moved by 0.16% (3.63x volatility) from 16:15 to 16:16.\n",
      "KER.PA stock price moved by 0.11% (2.42x volatility) from 16:16 to 16:17.\n",
      "KER.PA stock price moved by 0.11% (2.41x volatility) from 16:22 to 16:23.\n",
      "KER.PA stock price moved by 0.11% (2.42x volatility) from 16:28 to 16:29.\n",
      "KER.PA stock price moved by 0.10% (2.17x volatility) from 16:54 to 16:55.\n",
      "OR.PA stock price moved by 0.09% (2.06x volatility) from 14:35 to 14:36.\n",
      "OR.PA stock price moved by 0.15% (3.43x volatility) from 14:36 to 14:37.\n",
      "OR.PA stock price moved by 0.15% (3.42x volatility) from 14:37 to 14:38.\n",
      "OR.PA stock price moved by 0.22% (5.13x volatility) from 14:38 to 14:39.\n",
      "OR.PA stock price moved by 0.18% (4.10x volatility) from 14:41 to 14:42.\n",
      "OR.PA stock price moved by 0.09% (2.07x volatility) from 15:39 to 15:40.\n",
      "OR.PA stock price moved by 0.09% (2.07x volatility) from 15:48 to 15:49.\n",
      "OR.PA stock price moved by 0.12% (2.75x volatility) from 15:57 to 15:58.\n",
      "OR.PA stock price moved by 0.17% (3.78x volatility) from 15:59 to 16:00.\n",
      "OR.PA stock price moved by 0.15% (3.44x volatility) from 16:07 to 16:08.\n",
      "OR.PA stock price moved by 0.11% (2.40x volatility) from 16:10 to 16:11.\n",
      "OR.PA stock price moved by 0.12% (2.74x volatility) from 16:16 to 16:17.\n",
      "OR.PA stock price moved by 0.20% (4.45x volatility) from 17:29 to 17:30.\n",
      "LR.PA stock price moved by 0.11% (2.43x volatility) from 14:33 to 14:34.\n",
      "LR.PA stock price moved by 0.32% (7.25x volatility) from 14:38 to 14:39.\n",
      "LR.PA stock price moved by 0.13% (3.03x volatility) from 15:26 to 15:27.\n",
      "LR.PA stock price moved by 0.11% (2.43x volatility) from 15:41 to 15:42.\n",
      "LR.PA stock price moved by 0.19% (4.24x volatility) from 15:59 to 16:00.\n",
      "LR.PA stock price moved by 0.13% (3.03x volatility) from 16:09 to 16:10.\n",
      "LR.PA stock price moved by 0.13% (3.02x volatility) from 16:15 to 16:16.\n",
      "MC.PA stock price moved by 0.09% (2.02x volatility) from 13:42 to 13:43.\n",
      "MC.PA stock price moved by 0.19% (4.39x volatility) from 14:35 to 14:36.\n",
      "MC.PA stock price moved by 0.12% (2.70x volatility) from 14:36 to 14:37.\n",
      "MC.PA stock price moved by 0.13% (3.03x volatility) from 14:37 to 14:38.\n",
      "MC.PA stock price moved by 0.21% (4.71x volatility) from 14:38 to 14:39.\n",
      "MC.PA stock price moved by 0.10% (2.35x volatility) from 14:41 to 14:42.\n",
      "MC.PA stock price moved by 0.09% (2.04x volatility) from 15:39 to 15:40.\n",
      "MC.PA stock price moved by 0.09% (2.04x volatility) from 15:48 to 15:49.\n",
      "MC.PA stock price moved by 0.12% (2.72x volatility) from 15:57 to 15:58.\n",
      "MC.PA stock price moved by 0.31% (7.12x volatility) from 15:59 to 16:00.\n",
      "MC.PA stock price moved by 0.12% (2.71x volatility) from 16:04 to 16:05.\n",
      "MC.PA stock price moved by 0.09% (2.04x volatility) from 16:07 to 16:08.\n",
      "MC.PA stock price moved by 0.12% (2.71x volatility) from 16:17 to 16:18.\n",
      "MC.PA stock price moved by 0.09% (2.03x volatility) from 16:34 to 16:35.\n",
      "MC.PA stock price moved by 0.12% (2.70x volatility) from 16:54 to 16:55.\n",
      "MC.PA stock price moved by 0.10% (2.37x volatility) from 17:09 to 17:10.\n",
      "ML.PA stock price moved by 0.13% (3.01x volatility) from 14:33 to 14:34.\n",
      "ML.PA stock price moved by 0.21% (4.72x volatility) from 14:36 to 14:37.\n",
      "ML.PA stock price moved by 0.23% (5.13x volatility) from 14:38 to 14:39.\n",
      "ML.PA stock price moved by 0.11% (2.58x volatility) from 15:29 to 15:30.\n",
      "ML.PA stock price moved by 0.09% (2.15x volatility) from 15:36 to 15:37.\n",
      "ML.PA stock price moved by 0.13% (3.01x volatility) from 15:57 to 15:58.\n",
      "ML.PA stock price moved by 0.28% (6.45x volatility) from 15:59 to 16:00.\n",
      "ML.PA stock price moved by 0.19% (4.30x volatility) from 16:07 to 16:08.\n",
      "ML.PA stock price moved by 0.13% (3.01x volatility) from 16:10 to 16:11.\n",
      "ML.PA stock price moved by 0.19% (4.29x volatility) from 16:15 to 16:16.\n",
      "ML.PA stock price moved by 0.23% (5.14x volatility) from 16:16 to 16:17.\n",
      "ML.PA stock price moved by 0.15% (3.42x volatility) from 16:29 to 16:30.\n",
      "ML.PA stock price moved by 0.11% (2.56x volatility) from 16:37 to 16:38.\n",
      "ORA.PA stock price moved by 0.21% (4.89x volatility) from 14:29 to 14:30.\n",
      "ORA.PA stock price moved by 0.12% (2.69x volatility) from 16:17 to 16:18.\n",
      "ORA.PA stock price moved by 0.11% (2.44x volatility) from 17:29 to 17:30.\n",
      "RI.PA stock price moved by 0.14% (3.08x volatility) from 14:29 to 14:30.\n",
      "RI.PA stock price moved by 0.11% (2.47x volatility) from 14:33 to 14:34.\n",
      "RI.PA stock price moved by 0.11% (2.47x volatility) from 14:37 to 14:38.\n",
      "RI.PA stock price moved by 0.19% (4.31x volatility) from 14:38 to 14:39.\n",
      "RI.PA stock price moved by 0.11% (2.46x volatility) from 14:41 to 14:42.\n",
      "RI.PA stock price moved by 0.11% (2.47x volatility) from 15:41 to 15:42.\n",
      "RI.PA stock price moved by 0.11% (2.47x volatility) from 16:07 to 16:08.\n",
      "RI.PA stock price moved by 0.11% (2.47x volatility) from 16:15 to 16:16.\n",
      "RI.PA stock price moved by 0.27% (6.18x volatility) from 17:29 to 17:30.\n",
      "PUB.PA stock price moved by 0.10% (2.29x volatility) from 14:36 to 14:37.\n",
      "PUB.PA stock price moved by 0.10% (2.29x volatility) from 14:37 to 14:38.\n",
      "PUB.PA stock price moved by 0.10% (2.29x volatility) from 14:38 to 14:39.\n",
      "PUB.PA stock price moved by 0.10% (2.29x volatility) from 14:41 to 14:42.\n",
      "PUB.PA stock price moved by 0.10% (2.30x volatility) from 15:57 to 15:58.\n",
      "PUB.PA stock price moved by 0.20% (4.59x volatility) from 15:59 to 16:00.\n",
      "PUB.PA stock price moved by 0.10% (2.29x volatility) from 16:09 to 16:10.\n",
      "PUB.PA stock price moved by 0.10% (2.29x volatility) from 16:15 to 16:16.\n",
      "RNO.PA stock price moved by 0.11% (2.54x volatility) from 14:14 to 14:16.\n",
      "RNO.PA stock price moved by 0.49% (11.22x volatility) from 14:25 to 14:29.\n",
      "RNO.PA stock price moved by 0.10% (2.17x volatility) from 14:30 to 14:31.\n",
      "RNO.PA stock price moved by 0.13% (2.90x volatility) from 14:33 to 14:34.\n",
      "RNO.PA stock price moved by 0.14% (3.26x volatility) from 14:36 to 14:37.\n",
      "RNO.PA stock price moved by 0.29% (6.51x volatility) from 14:37 to 14:39.\n",
      "RNO.PA stock price moved by 0.10% (2.17x volatility) from 14:42 to 14:43.\n",
      "RNO.PA stock price moved by 0.29% (6.53x volatility) from 15:29 to 15:30.\n",
      "RNO.PA stock price moved by 0.14% (3.26x volatility) from 15:31 to 15:32.\n",
      "RNO.PA stock price moved by 0.10% (2.18x volatility) from 15:36 to 15:37.\n",
      "RNO.PA stock price moved by 0.10% (2.19x volatility) from 15:58 to 15:59.\n",
      "RNO.PA stock price moved by 0.42% (9.46x volatility) from 15:59 to 16:00.\n",
      "RNO.PA stock price moved by 0.10% (2.18x volatility) from 16:12 to 16:13.\n",
      "RNO.PA stock price moved by 0.19% (4.36x volatility) from 16:15 to 16:16.\n",
      "RNO.PA stock price moved by 0.14% (3.26x volatility) from 16:17 to 16:18.\n",
      "RNO.PA stock price moved by 0.14% (3.26x volatility) from 16:25 to 16:26.\n",
      "RNO.PA stock price moved by 0.11% (2.53x volatility) from 16:29 to 16:30.\n",
      "RNO.PA stock price moved by 0.13% (2.89x volatility) from 16:33 to 16:35.\n",
      "RNO.PA stock price moved by 0.11% (2.53x volatility) from 16:37 to 16:38.\n",
      "RNO.PA stock price moved by 0.11% (2.52x volatility) from 16:38 to 16:39.\n",
      "RNO.PA stock price moved by 0.10% (2.18x volatility) from 17:08 to 17:09.\n",
      "RNO.PA stock price moved by 0.10% (2.18x volatility) from 17:27 to 17:28.\n",
      "RNO.PA stock price moved by 0.11% (2.54x volatility) from 17:29 to 17:30.\n",
      "SAF.PA stock price moved by 0.19% (4.28x volatility) from 14:29 to 14:30.\n",
      "SAF.PA stock price moved by 0.22% (5.04x volatility) from 14:37 to 14:39.\n",
      "SAF.PA stock price moved by 0.10% (2.32x volatility) from 14:41 to 14:42.\n",
      "SGO.PA stock price moved by 0.10% (2.23x volatility) from 14:04 to 14:05.\n",
      "SGO.PA stock price moved by 0.10% (2.23x volatility) from 14:33 to 14:34.\n",
      "SGO.PA stock price moved by 0.12% (2.72x volatility) from 14:36 to 14:37.\n",
      "SGO.PA stock price moved by 0.22% (4.93x volatility) from 14:38 to 14:39.\n",
      "SGO.PA stock price moved by 0.16% (3.70x volatility) from 14:40 to 14:42.\n",
      "SGO.PA stock price moved by 0.10% (2.23x volatility) from 15:31 to 15:32.\n",
      "SGO.PA stock price moved by 0.12% (2.73x volatility) from 15:36 to 15:37.\n",
      "SGO.PA stock price moved by 0.10% (2.23x volatility) from 15:37 to 15:38.\n",
      "SGO.PA stock price moved by 0.10% (2.23x volatility) from 15:57 to 15:58.\n",
      "SGO.PA stock price moved by 0.28% (6.45x volatility) from 15:59 to 16:00.\n",
      "SGO.PA stock price moved by 0.16% (3.72x volatility) from 16:12 to 16:13.\n",
      "SGO.PA stock price moved by 0.17% (3.96x volatility) from 16:15 to 16:16.\n",
      "SAN.PA stock price moved by 0.25% (5.79x volatility) from 14:29 to 14:30.\n",
      "SAN.PA stock price moved by 0.09% (2.01x volatility) from 14:41 to 14:42.\n",
      "SAN.PA stock price moved by 0.10% (2.26x volatility) from 15:39 to 15:40.\n",
      "SAN.PA stock price moved by 0.11% (2.52x volatility) from 15:57 to 15:58.\n",
      "SU.PA stock price moved by 0.11% (2.44x volatility) from 14:33 to 14:34.\n",
      "SU.PA stock price moved by 0.18% (4.18x volatility) from 14:36 to 14:37.\n",
      "SU.PA stock price moved by 0.37% (8.35x volatility) from 14:38 to 14:39.\n",
      "SU.PA stock price moved by 0.17% (3.82x volatility) from 14:41 to 14:42.\n",
      "SU.PA stock price moved by 0.12% (2.79x volatility) from 15:30 to 15:31.\n",
      "SU.PA stock price moved by 0.11% (2.44x volatility) from 15:31 to 15:32.\n",
      "SU.PA stock price moved by 0.15% (3.50x volatility) from 15:36 to 15:37.\n",
      "SU.PA stock price moved by 0.12% (2.80x volatility) from 15:48 to 15:49.\n",
      "SU.PA stock price moved by 0.17% (3.83x volatility) from 15:59 to 16:00.\n",
      "SU.PA stock price moved by 0.17% (3.84x volatility) from 16:07 to 16:08.\n",
      "SU.PA stock price moved by 0.21% (4.88x volatility) from 16:09 to 16:10.\n",
      "SU.PA stock price moved by 0.15% (3.48x volatility) from 16:15 to 16:16.\n",
      "SU.PA stock price moved by 0.11% (2.43x volatility) from 16:16 to 16:17.\n",
      "SU.PA stock price moved by 0.09% (2.08x volatility) from 16:36 to 16:37.\n",
      "SU.PA stock price moved by 0.11% (2.43x volatility) from 16:59 to 17:00.\n",
      "SU.PA stock price moved by 0.14% (3.13x volatility) from 17:02 to 17:03.\n",
      "GLE.PA stock price moved by 0.13% (2.91x volatility) from 15:29 to 15:30.\n",
      "GLE.PA stock price moved by 0.11% (2.42x volatility) from 15:59 to 16:00.\n",
      "GLE.PA stock price moved by 0.15% (3.39x volatility) from 16:10 to 16:11.\n",
      "STLA.PA stock price moved by 0.09% (2.07x volatility) from 13:45 to 13:46.\n",
      "STLA.PA stock price moved by 0.14% (3.11x volatility) from 14:35 to 14:36.\n",
      "STLA.PA stock price moved by 0.12% (2.76x volatility) from 14:36 to 14:37.\n",
      "STLA.PA stock price moved by 0.24% (5.52x volatility) from 14:38 to 14:39.\n",
      "STLA.PA stock price moved by 0.09% (2.07x volatility) from 14:41 to 14:42.\n",
      "STLA.PA stock price moved by 0.14% (3.11x volatility) from 15:31 to 15:32.\n",
      "STLA.PA stock price moved by 0.09% (2.08x volatility) from 15:36 to 15:37.\n",
      "STLA.PA stock price moved by 0.09% (2.09x volatility) from 15:55 to 15:56.\n",
      "STLA.PA stock price moved by 0.24% (5.55x volatility) from 15:58 to 16:00.\n",
      "STLA.PA stock price moved by 0.15% (3.47x volatility) from 16:09 to 16:10.\n",
      "STLA.PA stock price moved by 0.12% (2.77x volatility) from 16:10 to 16:11.\n",
      "STLA.PA stock price moved by 0.12% (2.77x volatility) from 16:15 to 16:16.\n",
      "STLA.PA stock price moved by 0.12% (2.77x volatility) from 16:16 to 16:17.\n",
      "STLA.PA stock price moved by 0.12% (2.77x volatility) from 16:22 to 16:23.\n",
      "STLA.PA stock price moved by 0.09% (2.07x volatility) from 16:29 to 16:30.\n",
      "STLA.PA stock price moved by 0.11% (2.41x volatility) from 16:37 to 16:38.\n",
      "STLA.PA stock price moved by 0.12% (2.76x volatility) from 16:54 to 16:55.\n",
      "STLA.PA stock price moved by 0.11% (2.42x volatility) from 17:29 to 17:30.\n",
      "STM.PA stock price moved by 0.15% (3.38x volatility) from 14:33 to 14:34.\n",
      "STM.PA stock price moved by 0.19% (4.39x volatility) from 14:35 to 14:36.\n",
      "STM.PA stock price moved by 0.13% (3.03x volatility) from 14:36 to 14:37.\n",
      "STM.PA stock price moved by 0.15% (3.37x volatility) from 14:37 to 14:38.\n",
      "STM.PA stock price moved by 0.22% (5.04x volatility) from 14:38 to 14:39.\n",
      "STM.PA stock price moved by 0.12% (2.69x volatility) from 14:40 to 14:41.\n",
      "STM.PA stock price moved by 0.25% (5.71x volatility) from 14:41 to 14:42.\n",
      "STM.PA stock price moved by 0.09% (2.01x volatility) from 14:43 to 14:44.\n",
      "STM.PA stock price moved by 0.09% (2.03x volatility) from 15:06 to 15:07.\n",
      "STM.PA stock price moved by 0.13% (3.05x volatility) from 15:13 to 15:14.\n",
      "STM.PA stock price moved by 0.13% (3.05x volatility) from 15:29 to 15:30.\n",
      "STM.PA stock price moved by 0.10% (2.37x volatility) from 15:30 to 15:31.\n",
      "STM.PA stock price moved by 0.10% (2.39x volatility) from 15:40 to 15:41.\n",
      "STM.PA stock price moved by 0.15% (3.41x volatility) from 15:41 to 15:42.\n",
      "STM.PA stock price moved by 0.10% (2.39x volatility) from 15:45 to 15:46.\n",
      "STM.PA stock price moved by 0.20% (4.45x volatility) from 15:48 to 15:49.\n",
      "STM.PA stock price moved by 0.13% (3.07x volatility) from 15:49 to 15:50.\n",
      "STM.PA stock price moved by 0.15% (3.41x volatility) from 15:52 to 15:53.\n",
      "STM.PA stock price moved by 0.16% (3.75x volatility) from 15:57 to 15:58.\n",
      "STM.PA stock price moved by 0.66% (14.98x volatility) from 15:59 to 16:00.\n",
      "STM.PA stock price moved by 0.27% (6.13x volatility) from 16:07 to 16:08.\n",
      "STM.PA stock price moved by 0.15% (3.40x volatility) from 16:10 to 16:11.\n",
      "STM.PA stock price moved by 0.19% (4.42x volatility) from 16:15 to 16:16.\n",
      "STM.PA stock price moved by 0.10% (2.37x volatility) from 16:16 to 16:17.\n",
      "STM.PA stock price moved by 0.19% (4.40x volatility) from 16:17 to 16:18.\n",
      "STM.PA stock price moved by 0.15% (3.38x volatility) from 16:22 to 16:23.\n",
      "STM.PA stock price moved by 0.12% (2.70x volatility) from 16:24 to 16:25.\n",
      "STM.PA stock price moved by 0.13% (3.04x volatility) from 16:29 to 16:30.\n",
      "STM.PA stock price moved by 0.10% (2.36x volatility) from 16:33 to 16:34.\n",
      "STM.PA stock price moved by 0.16% (3.71x volatility) from 16:37 to 16:38.\n",
      "STM.PA stock price moved by 0.09% (2.03x volatility) from 16:51 to 16:52.\n",
      "STM.PA stock price moved by 0.09% (2.04x volatility) from 17:12 to 17:13.\n",
      "STM.PA stock price moved by 0.09% (2.03x volatility) from 17:20 to 17:21.\n",
      "TEP.PA stock price moved by 0.09% (2.07x volatility) from 13:56 to 13:59.\n",
      "TEP.PA stock price moved by 0.14% (3.10x volatility) from 14:28 to 14:29.\n",
      "TEP.PA stock price moved by 0.09% (2.08x volatility) from 14:33 to 14:34.\n",
      "TEP.PA stock price moved by 0.14% (3.11x volatility) from 14:35 to 14:36.\n",
      "TEP.PA stock price moved by 0.09% (2.07x volatility) from 14:36 to 14:37.\n",
      "TEP.PA stock price moved by 0.23% (5.17x volatility) from 14:38 to 14:39.\n",
      "TEP.PA stock price moved by 0.14% (3.10x volatility) from 14:41 to 14:42.\n",
      "TEP.PA stock price moved by 0.09% (2.07x volatility) from 14:49 to 14:50.\n",
      "TEP.PA stock price moved by 0.09% (2.07x volatility) from 14:57 to 14:58.\n",
      "TEP.PA stock price moved by 0.09% (2.07x volatility) from 15:04 to 15:05.\n",
      "TEP.PA stock price moved by 0.09% (2.08x volatility) from 15:36 to 15:37.\n",
      "TEP.PA stock price moved by 0.09% (2.07x volatility) from 15:55 to 15:57.\n",
      "TEP.PA stock price moved by 0.18% (4.15x volatility) from 15:59 to 16:00.\n",
      "TEP.PA stock price moved by 0.14% (3.11x volatility) from 16:07 to 16:08.\n",
      "TEP.PA stock price moved by 0.14% (3.11x volatility) from 16:09 to 16:11.\n",
      "TEP.PA stock price moved by 0.09% (2.07x volatility) from 16:16 to 16:17.\n",
      "TEP.PA stock price moved by 0.09% (2.07x volatility) from 16:22 to 16:24.\n",
      "TEP.PA stock price moved by 0.09% (2.07x volatility) from 17:03 to 17:06.\n",
      "TEP.PA stock price moved by 0.18% (4.14x volatility) from 17:29 to 17:30.\n",
      "HO.PA stock price moved by 0.13% (2.91x volatility) from 14:48 to 14:49.\n",
      "HO.PA stock price moved by 0.13% (2.90x volatility) from 15:30 to 15:31.\n",
      "HO.PA stock price moved by 0.30% (6.74x volatility) from 17:29 to 17:30.\n",
      "TTE.PA stock price moved by 0.22% (5.02x volatility) from 14:29 to 14:30.\n",
      "TTE.PA stock price moved by 0.20% (4.64x volatility) from 15:30 to 15:31.\n",
      "TTE.PA stock price moved by 0.14% (3.08x volatility) from 15:39 to 15:40.\n",
      "TTE.PA stock price moved by 0.14% (3.09x volatility) from 15:48 to 15:49.\n",
      "TTE.PA stock price moved by 0.10% (2.31x volatility) from 15:59 to 16:00.\n",
      "URW.AS stock price moved by 0.12% (2.81x volatility) from 13:48 to 13:49.\n",
      "URW.AS stock price moved by 0.09% (2.11x volatility) from 14:19 to 14:20.\n",
      "URW.AS stock price moved by 0.10% (2.34x volatility) from 14:20 to 14:21.\n",
      "URW.AS stock price moved by 0.12% (2.82x volatility) from 14:30 to 14:31.\n",
      "URW.AS stock price moved by 0.12% (2.82x volatility) from 14:34 to 14:35.\n",
      "URW.AS stock price moved by 0.45% (10.33x volatility) from 14:36 to 14:39.\n",
      "URW.AS stock price moved by 0.16% (3.74x volatility) from 14:41 to 14:44.\n",
      "URW.AS stock price moved by 0.09% (2.12x volatility) from 15:07 to 15:08.\n",
      "URW.AS stock price moved by 0.11% (2.60x volatility) from 15:20 to 15:21.\n",
      "URW.AS stock price moved by 0.13% (3.07x volatility) from 15:31 to 15:32.\n",
      "URW.AS stock price moved by 0.15% (3.32x volatility) from 15:36 to 15:37.\n",
      "URW.AS stock price moved by 0.09% (2.13x volatility) from 15:37 to 15:38.\n",
      "URW.AS stock price moved by 0.15% (3.31x volatility) from 15:40 to 15:41.\n",
      "URW.AS stock price moved by 0.12% (2.83x volatility) from 15:41 to 15:42.\n",
      "URW.AS stock price moved by 0.63% (14.45x volatility) from 15:58 to 16:00.\n",
      "URW.AS stock price moved by 0.22% (4.96x volatility) from 16:04 to 16:05.\n",
      "URW.AS stock price moved by 0.11% (2.60x volatility) from 16:06 to 16:07.\n",
      "URW.AS stock price moved by 0.17% (3.77x volatility) from 16:07 to 16:08.\n",
      "URW.AS stock price moved by 0.12% (2.83x volatility) from 16:09 to 16:10.\n",
      "URW.AS stock price moved by 0.15% (3.53x volatility) from 16:10 to 16:11.\n",
      "URW.AS stock price moved by 0.22% (4.94x volatility) from 16:15 to 16:16.\n",
      "URW.AS stock price moved by 0.31% (7.04x volatility) from 16:16 to 16:17.\n",
      "URW.AS stock price moved by 0.10% (2.34x volatility) from 16:18 to 16:19.\n",
      "URW.AS stock price moved by 0.10% (2.34x volatility) from 16:19 to 16:20.\n",
      "URW.AS stock price moved by 0.09% (2.10x volatility) from 16:23 to 16:24.\n",
      "URW.AS stock price moved by 0.30% (6.75x volatility) from 16:37 to 16:38.\n",
      "URW.AS stock price moved by 0.11% (2.56x volatility) from 16:54 to 16:55.\n",
      "URW.AS stock price moved by 0.11% (2.57x volatility) from 17:09 to 17:10.\n",
      "URW.AS stock price moved by 0.10% (2.34x volatility) from 17:24 to 17:25.\n",
      "URW.AS stock price moved by 0.22% (4.90x volatility) from 17:29 to 17:30.\n",
      "VIE.PA stock price moved by 0.13% (2.85x volatility) from 14:36 to 14:37.\n",
      "VIE.PA stock price moved by 0.17% (3.80x volatility) from 14:38 to 14:39.\n",
      "VIE.PA stock price moved by 0.12% (2.85x volatility) from 14:41 to 14:42.\n",
      "VIE.PA stock price moved by 0.13% (2.86x volatility) from 15:31 to 15:32.\n",
      "VIE.PA stock price moved by 0.17% (3.81x volatility) from 15:58 to 16:00.\n",
      "VIE.PA stock price moved by 0.13% (2.86x volatility) from 16:07 to 16:08.\n",
      "VIE.PA stock price moved by 0.17% (3.80x volatility) from 16:16 to 16:17.\n",
      "DG.PA stock price moved by 0.16% (3.64x volatility) from 14:29 to 14:30.\n",
      "DG.PA stock price moved by 0.13% (2.90x volatility) from 14:38 to 14:39.\n",
      "DG.PA stock price moved by 0.10% (2.18x volatility) from 14:41 to 14:42.\n",
      "DG.PA stock price moved by 0.12% (2.67x volatility) from 15:57 to 15:58.\n",
      "DG.PA stock price moved by 0.17% (3.89x volatility) from 15:59 to 16:00.\n",
      "DG.PA stock price moved by 0.11% (2.42x volatility) from 16:16 to 16:17.\n",
      "VIV.PA stock price moved by 0.20% (4.59x volatility) from 14:29 to 14:30.\n",
      "VIV.PA stock price moved by 0.11% (2.54x volatility) from 14:30 to 14:31.\n",
      "VIV.PA stock price moved by 0.22% (5.09x volatility) from 14:37 to 14:39.\n",
      "VIV.PA stock price moved by 0.11% (2.54x volatility) from 14:41 to 14:43.\n",
      "VIV.PA stock price moved by 0.22% (5.11x volatility) from 15:59 to 16:00.\n",
      "VIV.PA stock price moved by 0.09% (2.04x volatility) from 16:10 to 16:11.\n",
      "VIV.PA stock price moved by 0.09% (2.04x volatility) from 16:15 to 16:16.\n",
      "VIV.PA stock price moved by 0.09% (2.04x volatility) from 16:16 to 16:17.\n",
      "WLN.PA stock price moved by 0.11% (2.47x volatility) from 13:40 to 13:42.\n",
      "WLN.PA stock price moved by 0.11% (2.49x volatility) from 14:33 to 14:34.\n",
      "WLN.PA stock price moved by 0.22% (4.96x volatility) from 14:35 to 14:36.\n",
      "WLN.PA stock price moved by 0.19% (4.33x volatility) from 14:37 to 14:38.\n",
      "WLN.PA stock price moved by 0.19% (4.32x volatility) from 14:38 to 14:39.\n",
      "WLN.PA stock price moved by 0.11% (2.47x volatility) from 14:41 to 14:42.\n",
      "WLN.PA stock price moved by 0.11% (2.48x volatility) from 15:30 to 15:31.\n",
      "WLN.PA stock price moved by 0.14% (3.10x volatility) from 15:31 to 15:32.\n",
      "WLN.PA stock price moved by 0.11% (2.48x volatility) from 15:40 to 15:41.\n",
      "WLN.PA stock price moved by 0.14% (3.11x volatility) from 15:48 to 15:49.\n",
      "WLN.PA stock price moved by 0.14% (3.11x volatility) from 15:55 to 15:58.\n",
      "WLN.PA stock price moved by 0.30% (6.82x volatility) from 15:59 to 16:00.\n",
      "WLN.PA stock price moved by 0.14% (3.10x volatility) from 16:04 to 16:05.\n",
      "WLN.PA stock price moved by 0.14% (3.10x volatility) from 16:07 to 16:08.\n",
      "WLN.PA stock price moved by 0.11% (2.48x volatility) from 16:09 to 16:10.\n",
      "WLN.PA stock price moved by 0.14% (3.09x volatility) from 16:16 to 16:17.\n",
      "WLN.PA stock price moved by 0.11% (2.46x volatility) from 16:54 to 16:55.\n"
     ]
    },
    {
     "ename": "KeyboardInterrupt",
     "evalue": "",
     "output_type": "error",
     "traceback": [
      "\u001B[0;31m---------------------------------------------------------------------------\u001B[0m",
      "\u001B[0;31mKeyboardInterrupt\u001B[0m                         Traceback (most recent call last)",
      "Cell \u001B[0;32mIn[49], line 6\u001B[0m\n\u001B[1;32m      4\u001B[0m \u001B[38;5;28;01mwhile\u001B[39;00m \u001B[38;5;28;01mTrue\u001B[39;00m:\n\u001B[1;32m      5\u001B[0m     \u001B[38;5;28;01mfor\u001B[39;00m ticker \u001B[38;5;129;01min\u001B[39;00m cac40_tickers:\n\u001B[0;32m----> 6\u001B[0m         new_data \u001B[38;5;241m=\u001B[39m \u001B[43myf\u001B[49m\u001B[38;5;241;43m.\u001B[39;49m\u001B[43mdownload\u001B[49m\u001B[43m(\u001B[49m\u001B[43mtickers\u001B[49m\u001B[38;5;241;43m=\u001B[39;49m\u001B[43mticker\u001B[49m\u001B[43m,\u001B[49m\n\u001B[1;32m      7\u001B[0m \u001B[43m                               \u001B[49m\u001B[43mperiod\u001B[49m\u001B[38;5;241;43m=\u001B[39;49m\u001B[38;5;124;43m\"\u001B[39;49m\u001B[38;5;124;43m1d\u001B[39;49m\u001B[38;5;124;43m\"\u001B[39;49m\u001B[43m,\u001B[49m\n\u001B[1;32m      8\u001B[0m \u001B[43m                               \u001B[49m\u001B[43minterval\u001B[49m\u001B[38;5;241;43m=\u001B[39;49m\u001B[38;5;124;43m\"\u001B[39;49m\u001B[38;5;124;43m1m\u001B[39;49m\u001B[38;5;124;43m\"\u001B[39;49m\u001B[43m,\u001B[49m\u001B[43m \u001B[49m\u001B[43mprogress\u001B[49m\u001B[38;5;241;43m=\u001B[39;49m\u001B[38;5;28;43;01mFalse\u001B[39;49;00m\u001B[43m)\u001B[49m\u001B[38;5;241m.\u001B[39mreset_index()\n\u001B[1;32m      9\u001B[0m         new_data \u001B[38;5;241m=\u001B[39m new_data[new_data[\u001B[38;5;124m'\u001B[39m\u001B[38;5;124mDatetime\u001B[39m\u001B[38;5;124m'\u001B[39m] \u001B[38;5;241m>\u001B[39m update[ticker]]\n\u001B[1;32m     10\u001B[0m         \u001B[38;5;28;01mfor\u001B[39;00m _, tick \u001B[38;5;129;01min\u001B[39;00m new_data\u001B[38;5;241m.\u001B[39miterrows():\n",
      "File \u001B[0;32m~/PycharmProjects/stock-market-screener-telegram-bot/venv/lib/python3.10/site-packages/yfinance/multi.py:121\u001B[0m, in \u001B[0;36mdownload\u001B[0;34m(tickers, start, end, actions, threads, ignore_tz, group_by, auto_adjust, back_adjust, repair, keepna, progress, period, show_errors, interval, prepost, proxy, rounding, timeout)\u001B[0m\n\u001B[1;32m    114\u001B[0m         _download_one_threaded(ticker, period\u001B[38;5;241m=\u001B[39mperiod, interval\u001B[38;5;241m=\u001B[39minterval,\n\u001B[1;32m    115\u001B[0m                                start\u001B[38;5;241m=\u001B[39mstart, end\u001B[38;5;241m=\u001B[39mend, prepost\u001B[38;5;241m=\u001B[39mprepost,\n\u001B[1;32m    116\u001B[0m                                actions\u001B[38;5;241m=\u001B[39mactions, auto_adjust\u001B[38;5;241m=\u001B[39mauto_adjust,\n\u001B[1;32m    117\u001B[0m                                back_adjust\u001B[38;5;241m=\u001B[39mback_adjust, repair\u001B[38;5;241m=\u001B[39mrepair, keepna\u001B[38;5;241m=\u001B[39mkeepna,\n\u001B[1;32m    118\u001B[0m                                progress\u001B[38;5;241m=\u001B[39m(progress \u001B[38;5;129;01mand\u001B[39;00m i \u001B[38;5;241m>\u001B[39m \u001B[38;5;241m0\u001B[39m), proxy\u001B[38;5;241m=\u001B[39mproxy,\n\u001B[1;32m    119\u001B[0m                                rounding\u001B[38;5;241m=\u001B[39mrounding, timeout\u001B[38;5;241m=\u001B[39mtimeout)\n\u001B[1;32m    120\u001B[0m     \u001B[38;5;28;01mwhile\u001B[39;00m \u001B[38;5;28mlen\u001B[39m(shared\u001B[38;5;241m.\u001B[39m_DFS) \u001B[38;5;241m<\u001B[39m \u001B[38;5;28mlen\u001B[39m(tickers):\n\u001B[0;32m--> 121\u001B[0m         \u001B[43m_time\u001B[49m\u001B[38;5;241;43m.\u001B[39;49m\u001B[43msleep\u001B[49m\u001B[43m(\u001B[49m\u001B[38;5;241;43m0.01\u001B[39;49m\u001B[43m)\u001B[49m\n\u001B[1;32m    123\u001B[0m \u001B[38;5;66;03m# download synchronously\u001B[39;00m\n\u001B[1;32m    124\u001B[0m \u001B[38;5;28;01melse\u001B[39;00m:\n\u001B[1;32m    125\u001B[0m     \u001B[38;5;28;01mfor\u001B[39;00m i, ticker \u001B[38;5;129;01min\u001B[39;00m \u001B[38;5;28menumerate\u001B[39m(tickers):\n",
      "\u001B[0;31mKeyboardInterrupt\u001B[0m: "
     ]
    }
   ],
   "source": [
    "update = {ticker: session.query(cac40_classes[ticker]).order_by(\n",
    "    cac40_classes[ticker].Datetime.desc()).first().Datetime for ticker in cac40_tickers}\n",
    "\n",
    "while True:\n",
    "    for ticker in cac40_tickers:\n",
    "        new_data = yf.download(tickers=ticker,\n",
    "                               period=\"1d\",\n",
    "                               interval=\"1m\", progress=False).reset_index()\n",
    "        new_data = new_data[new_data['Datetime'] > update[ticker]]\n",
    "        for _, tick in new_data.iterrows():\n",
    "            last_close = session.query(cac40_classes[ticker]).order_by(\n",
    "                cac40_classes[ticker].Datetime.desc()).first().Close\n",
    "            change_ratio = (tick[\"Close\"] / last_close - 1) / sigma[ticker]\n",
    "            if change_ratio > 2:\n",
    "                print(f'{ticker} stock price moved by {(tick[\"Close\"] / last_close - 1) * 100:.2f}% '\n",
    "                      f'({change_ratio:.2f}x volatility) '\n",
    "                      f'from {update[ticker].strftime(\"%H:%M\")} '\n",
    "                      f'to {tick[\"Datetime\"].strftime(\"%H:%M\")}.')\n",
    "                #sleep(5)\n",
    "            t = cac40_classes[ticker](**tick.to_dict())\n",
    "            session.add(t)\n",
    "            session.commit()\n",
    "            update[ticker] = tick['Datetime']"
   ],
   "metadata": {
    "collapsed": false
   }
  },
  {
   "cell_type": "code",
   "execution_count": 45,
   "outputs": [
    {
     "name": "stdout",
     "output_type": "stream",
     "text": [
      "13:30\n"
     ]
    }
   ],
   "source": [
    "print(update['AI.PA'].strftime(\"%H:%M\"))"
   ],
   "metadata": {
    "collapsed": false
   }
  },
  {
   "cell_type": "code",
   "execution_count": 46,
   "outputs": [
    {
     "data": {
      "text/plain": "                           Open        High         Low       Close  \\\nDatetime                                                              \n2022-12-23 13:30:00  111.599998  111.599998  111.599998  111.599998   \n2022-12-23 13:29:00  111.559998  111.580002  111.559998  111.580002   \n2022-12-23 13:28:00  111.500000  111.500000  111.500000  111.500000   \n2022-12-23 13:27:00  111.540001  111.540001  111.540001  111.540001   \n2022-12-23 13:24:00  111.540001  111.540001  111.540001  111.540001   \n2022-12-23 13:23:00  111.500000  111.500000  111.500000  111.500000   \n2022-12-23 13:22:00  111.480003  111.500000  111.459999  111.500000   \n2022-12-23 13:21:00  111.500000  111.500000  111.480003  111.480003   \n2022-12-23 13:20:00  111.480003  111.480003  111.480003  111.480003   \n2022-12-23 13:19:00  111.459999  111.480003  111.459999  111.480003   \n\n                      Adj Close  Volume  \nDatetime                                 \n2022-12-23 13:30:00  111.599998       0  \n2022-12-23 13:29:00  111.580002     138  \n2022-12-23 13:28:00  111.500000       0  \n2022-12-23 13:27:00  111.540001      61  \n2022-12-23 13:24:00  111.540001      48  \n2022-12-23 13:23:00  111.500000      38  \n2022-12-23 13:22:00  111.500000      93  \n2022-12-23 13:21:00  111.480003     376  \n2022-12-23 13:20:00  111.480003      89  \n2022-12-23 13:19:00  111.480003     110  ",
      "text/html": "<div>\n<style scoped>\n    .dataframe tbody tr th:only-of-type {\n        vertical-align: middle;\n    }\n\n    .dataframe tbody tr th {\n        vertical-align: top;\n    }\n\n    .dataframe thead th {\n        text-align: right;\n    }\n</style>\n<table border=\"1\" class=\"dataframe\">\n  <thead>\n    <tr style=\"text-align: right;\">\n      <th></th>\n      <th>Open</th>\n      <th>High</th>\n      <th>Low</th>\n      <th>Close</th>\n      <th>Adj Close</th>\n      <th>Volume</th>\n    </tr>\n    <tr>\n      <th>Datetime</th>\n      <th></th>\n      <th></th>\n      <th></th>\n      <th></th>\n      <th></th>\n      <th></th>\n    </tr>\n  </thead>\n  <tbody>\n    <tr>\n      <th>2022-12-23 13:30:00</th>\n      <td>111.599998</td>\n      <td>111.599998</td>\n      <td>111.599998</td>\n      <td>111.599998</td>\n      <td>111.599998</td>\n      <td>0</td>\n    </tr>\n    <tr>\n      <th>2022-12-23 13:29:00</th>\n      <td>111.559998</td>\n      <td>111.580002</td>\n      <td>111.559998</td>\n      <td>111.580002</td>\n      <td>111.580002</td>\n      <td>138</td>\n    </tr>\n    <tr>\n      <th>2022-12-23 13:28:00</th>\n      <td>111.500000</td>\n      <td>111.500000</td>\n      <td>111.500000</td>\n      <td>111.500000</td>\n      <td>111.500000</td>\n      <td>0</td>\n    </tr>\n    <tr>\n      <th>2022-12-23 13:27:00</th>\n      <td>111.540001</td>\n      <td>111.540001</td>\n      <td>111.540001</td>\n      <td>111.540001</td>\n      <td>111.540001</td>\n      <td>61</td>\n    </tr>\n    <tr>\n      <th>2022-12-23 13:24:00</th>\n      <td>111.540001</td>\n      <td>111.540001</td>\n      <td>111.540001</td>\n      <td>111.540001</td>\n      <td>111.540001</td>\n      <td>48</td>\n    </tr>\n    <tr>\n      <th>2022-12-23 13:23:00</th>\n      <td>111.500000</td>\n      <td>111.500000</td>\n      <td>111.500000</td>\n      <td>111.500000</td>\n      <td>111.500000</td>\n      <td>38</td>\n    </tr>\n    <tr>\n      <th>2022-12-23 13:22:00</th>\n      <td>111.480003</td>\n      <td>111.500000</td>\n      <td>111.459999</td>\n      <td>111.500000</td>\n      <td>111.500000</td>\n      <td>93</td>\n    </tr>\n    <tr>\n      <th>2022-12-23 13:21:00</th>\n      <td>111.500000</td>\n      <td>111.500000</td>\n      <td>111.480003</td>\n      <td>111.480003</td>\n      <td>111.480003</td>\n      <td>376</td>\n    </tr>\n    <tr>\n      <th>2022-12-23 13:20:00</th>\n      <td>111.480003</td>\n      <td>111.480003</td>\n      <td>111.480003</td>\n      <td>111.480003</td>\n      <td>111.480003</td>\n      <td>89</td>\n    </tr>\n    <tr>\n      <th>2022-12-23 13:19:00</th>\n      <td>111.459999</td>\n      <td>111.480003</td>\n      <td>111.459999</td>\n      <td>111.480003</td>\n      <td>111.480003</td>\n      <td>110</td>\n    </tr>\n  </tbody>\n</table>\n</div>"
     },
     "execution_count": 46,
     "metadata": {},
     "output_type": "execute_result"
    }
   ],
   "source": [
    "query = session.query(cac40_classes['AIR.PA']).order_by(\n",
    "    cac40_classes['AIR.PA'].Datetime.desc()).limit(10)\n",
    "pd.read_sql(query.statement, query.session.bind, index_col='Datetime')"
   ],
   "metadata": {
    "collapsed": false
   }
  },
  {
   "cell_type": "code",
   "execution_count": null,
   "outputs": [],
   "source": [
    "dt = session.query(cac40_classes['AI.PA']).order_by(\n",
    "    cac40_classes['AI.PA'].Datetime.desc()).first().Datetime\n",
    "dt"
   ],
   "metadata": {
    "collapsed": false
   }
  },
  {
   "cell_type": "code",
   "execution_count": 51,
   "outputs": [
    {
     "data": {
      "text/plain": "133.82000732421875"
     },
     "execution_count": 51,
     "metadata": {},
     "output_type": "execute_result"
    }
   ],
   "source": [
    "session.query(cac40_classes['AI.PA']).order_by(cac40_classes['AI.PA'].Datetime.desc()).first().Close"
   ],
   "metadata": {
    "collapsed": false
   }
  },
  {
   "cell_type": "code",
   "execution_count": null,
   "outputs": [],
   "source": [],
   "metadata": {
    "collapsed": false
   }
  }
 ],
 "metadata": {
  "kernelspec": {
   "display_name": "Python 3",
   "language": "python",
   "name": "python3"
  },
  "language_info": {
   "codemirror_mode": {
    "name": "ipython",
    "version": 2
   },
   "file_extension": ".py",
   "mimetype": "text/x-python",
   "name": "python",
   "nbconvert_exporter": "python",
   "pygments_lexer": "ipython2",
   "version": "2.7.6"
  }
 },
 "nbformat": 4,
 "nbformat_minor": 0
}
